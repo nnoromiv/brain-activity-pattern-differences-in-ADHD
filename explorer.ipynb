{
 "cells": [
  {
   "cell_type": "markdown",
   "metadata": {},
   "source": [
    "<span style=\"font-family: Century Gothic\"> Load libraries</span>\n"
   ]
  },
  {
   "cell_type": "code",
   "execution_count": 3,
   "metadata": {},
   "outputs": [],
   "source": [
    "import pandas as pd\n",
    "import openpyxl"
   ]
  },
  {
   "cell_type": "markdown",
   "metadata": {},
   "source": [
    "### <span style=\"font-family: Century Gothic\"> Load and Explore the Dataset</span>\n",
    "\n",
    "- <span style=\"font-family: Century Gothic\"> Initial exploration to understand the structure, features, and potential issues </span>\n",
    "- <span style=\"font-family: Century Gothic\">Use libraries like Pandas to load the dataset.</span>\n",
    "- <span style=\"font-family: Century Gothic\">Check the size of the dataset (number of rows and columns).</span>\n",
    "- <span style=\"font-family: Century Gothic\">Inspect the first few rows to understand the features and their formats.</span>"
   ]
  },
  {
   "cell_type": "code",
   "execution_count": 11,
   "metadata": {},
   "outputs": [
    {
     "name": "stdout",
     "output_type": "stream",
     "text": [
      "  participant_id  EHQ_EHQ_Total  ColorVision_CV_Score  APQ_P_APQ_P_CP  \\\n",
      "0   UmrK0vMLopoR          40.00                    13               3   \n",
      "1   CPaeQkhcjg7d         -94.47                    14               3   \n",
      "\n",
      "   APQ_P_APQ_P_ID  APQ_P_APQ_P_INV  APQ_P_APQ_P_OPD  APQ_P_APQ_P_PM  \\\n",
      "0              10               47               13              11   \n",
      "1              13               34               18              23   \n",
      "\n",
      "   APQ_P_APQ_P_PP  SDQ_SDQ_Conduct_Problems  SDQ_SDQ_Difficulties_Total  \\\n",
      "0              28                         0                           6   \n",
      "1              30                         0                          18   \n",
      "\n",
      "   SDQ_SDQ_Emotional_Problems  SDQ_SDQ_Externalizing  \\\n",
      "0                           1                      5   \n",
      "1                           6                      8   \n",
      "\n",
      "   SDQ_SDQ_Generating_Impact  SDQ_SDQ_Hyperactivity  SDQ_SDQ_Internalizing  \\\n",
      "0                          0                      5                      1   \n",
      "1                          7                      8                     10   \n",
      "\n",
      "   SDQ_SDQ_Peer_Problems  SDQ_SDQ_Prosocial  MRI_Track_Age_at_Scan  \n",
      "0                      0                 10                    NaN  \n",
      "1                      4                  5                    NaN  \n"
     ]
    }
   ],
   "source": [
    "# Load the dataset\n",
    "df_meta_a = pd.read_excel('Data/METADATA_A.xlsx')\n",
    "\n",
    "# Inspect the first few rows\n",
    "print(df_meta_a.head(2))"
   ]
  },
  {
   "cell_type": "code",
   "execution_count": 10,
   "metadata": {},
   "outputs": [
    {
     "name": "stdout",
     "output_type": "stream",
     "text": [
      "(1213, 19)\n"
     ]
    }
   ],
   "source": [
    "# Check the shape of the dataset\n",
    "print(df_meta_a.shape)"
   ]
  }
 ],
 "metadata": {
  "kernelspec": {
   "display_name": "venv",
   "language": "python",
   "name": "python3"
  },
  "language_info": {
   "codemirror_mode": {
    "name": "ipython",
    "version": 3
   },
   "file_extension": ".py",
   "mimetype": "text/x-python",
   "name": "python",
   "nbconvert_exporter": "python",
   "pygments_lexer": "ipython3",
   "version": "3.12.6"
  }
 },
 "nbformat": 4,
 "nbformat_minor": 2
}
