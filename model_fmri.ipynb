{
 "cells": [
  {
   "cell_type": "markdown",
   "id": "683478ac",
   "metadata": {},
   "source": [
    "### <span style=\"font-family: Century Gothic\">Modelling and Testing (fMRI ADHD/Sex Classification)</span>"
   ]
  },
  {
   "cell_type": "code",
   "execution_count": 147,
   "id": "c2dda258",
   "metadata": {},
   "outputs": [],
   "source": [
    "import pandas as pd\n",
    "import numpy as np\n",
    "from sklearn.model_selection import train_test_split, GridSearchCV\n",
    "import matplotlib.pyplot as plt\n",
    "import seaborn as sns\n",
    "from sklearn.metrics import classification_report, accuracy_score, f1_score, roc_auc_score\n",
    "from sklearn.ensemble import RandomForestClassifier\n",
    "from sklearn.preprocessing import StandardScaler\n",
    "from sklearn.neural_network import MLPClassifier\n",
    "import tensorflow as tf\n",
    "import joblib\n"
   ]
  },
  {
   "cell_type": "markdown",
   "id": "028002af",
   "metadata": {},
   "source": [
    "<span style=\"font-family: Century Gothic; font-size:15px\">Load Dataset</span>"
   ]
  },
  {
   "cell_type": "code",
   "execution_count": 148,
   "id": "8259120c",
   "metadata": {},
   "outputs": [
    {
     "data": {
      "text/html": [
       "<div>\n",
       "<style scoped>\n",
       "    .dataframe tbody tr th:only-of-type {\n",
       "        vertical-align: middle;\n",
       "    }\n",
       "\n",
       "    .dataframe tbody tr th {\n",
       "        vertical-align: top;\n",
       "    }\n",
       "\n",
       "    .dataframe thead th {\n",
       "        text-align: right;\n",
       "    }\n",
       "</style>\n",
       "<table border=\"1\" class=\"dataframe\">\n",
       "  <thead>\n",
       "    <tr style=\"text-align: right;\">\n",
       "      <th></th>\n",
       "      <th>participant_id</th>\n",
       "      <th>0throw_1thcolumn</th>\n",
       "      <th>0throw_2thcolumn</th>\n",
       "      <th>0throw_3thcolumn</th>\n",
       "      <th>0throw_4thcolumn</th>\n",
       "      <th>0throw_5thcolumn</th>\n",
       "      <th>0throw_6thcolumn</th>\n",
       "      <th>0throw_7thcolumn</th>\n",
       "      <th>0throw_8thcolumn</th>\n",
       "      <th>0throw_9thcolumn</th>\n",
       "      <th>...</th>\n",
       "      <th>195throw_198thcolumn</th>\n",
       "      <th>195throw_199thcolumn</th>\n",
       "      <th>196throw_197thcolumn</th>\n",
       "      <th>196throw_198thcolumn</th>\n",
       "      <th>196throw_199thcolumn</th>\n",
       "      <th>197throw_198thcolumn</th>\n",
       "      <th>197throw_199thcolumn</th>\n",
       "      <th>198throw_199thcolumn</th>\n",
       "      <th>ADHD_Outcome</th>\n",
       "      <th>Sex_F</th>\n",
       "    </tr>\n",
       "  </thead>\n",
       "  <tbody>\n",
       "    <tr>\n",
       "      <th>0</th>\n",
       "      <td>00aIpNTbG5uh</td>\n",
       "      <td>0.047912</td>\n",
       "      <td>0.147614</td>\n",
       "      <td>0.035215</td>\n",
       "      <td>0.041143</td>\n",
       "      <td>0.070673</td>\n",
       "      <td>0.080293</td>\n",
       "      <td>0.063638</td>\n",
       "      <td>-0.016682</td>\n",
       "      <td>0.043650</td>\n",
       "      <td>...</td>\n",
       "      <td>-0.031380</td>\n",
       "      <td>0.032986</td>\n",
       "      <td>0.081980</td>\n",
       "      <td>0.093708</td>\n",
       "      <td>0.021903</td>\n",
       "      <td>0.029458</td>\n",
       "      <td>-0.016072</td>\n",
       "      <td>0.169368</td>\n",
       "      <td>1</td>\n",
       "      <td>0</td>\n",
       "    </tr>\n",
       "    <tr>\n",
       "      <th>1</th>\n",
       "      <td>00fV0OyyoLfw</td>\n",
       "      <td>-0.003560</td>\n",
       "      <td>0.131635</td>\n",
       "      <td>0.067454</td>\n",
       "      <td>0.073367</td>\n",
       "      <td>0.013845</td>\n",
       "      <td>0.198074</td>\n",
       "      <td>0.038971</td>\n",
       "      <td>-0.109366</td>\n",
       "      <td>-0.034447</td>\n",
       "      <td>...</td>\n",
       "      <td>0.038632</td>\n",
       "      <td>-0.042040</td>\n",
       "      <td>0.125651</td>\n",
       "      <td>0.127045</td>\n",
       "      <td>0.142448</td>\n",
       "      <td>0.051943</td>\n",
       "      <td>0.138729</td>\n",
       "      <td>0.168951</td>\n",
       "      <td>1</td>\n",
       "      <td>0</td>\n",
       "    </tr>\n",
       "    <tr>\n",
       "      <th>2</th>\n",
       "      <td>04X1eiS79T4B</td>\n",
       "      <td>-0.076074</td>\n",
       "      <td>0.162668</td>\n",
       "      <td>0.050365</td>\n",
       "      <td>0.035320</td>\n",
       "      <td>0.055263</td>\n",
       "      <td>0.047298</td>\n",
       "      <td>0.155932</td>\n",
       "      <td>0.012768</td>\n",
       "      <td>0.084281</td>\n",
       "      <td>...</td>\n",
       "      <td>0.013774</td>\n",
       "      <td>-0.057094</td>\n",
       "      <td>0.084471</td>\n",
       "      <td>0.075582</td>\n",
       "      <td>0.093687</td>\n",
       "      <td>0.091592</td>\n",
       "      <td>0.114817</td>\n",
       "      <td>0.157812</td>\n",
       "      <td>0</td>\n",
       "      <td>1</td>\n",
       "    </tr>\n",
       "    <tr>\n",
       "      <th>3</th>\n",
       "      <td>05ocQutkURd6</td>\n",
       "      <td>0.054913</td>\n",
       "      <td>0.160764</td>\n",
       "      <td>0.150480</td>\n",
       "      <td>0.113151</td>\n",
       "      <td>0.135581</td>\n",
       "      <td>0.118498</td>\n",
       "      <td>0.032319</td>\n",
       "      <td>-0.078683</td>\n",
       "      <td>-0.013995</td>\n",
       "      <td>...</td>\n",
       "      <td>-0.075685</td>\n",
       "      <td>-0.029209</td>\n",
       "      <td>0.087122</td>\n",
       "      <td>0.009254</td>\n",
       "      <td>0.114800</td>\n",
       "      <td>0.218728</td>\n",
       "      <td>0.090305</td>\n",
       "      <td>0.159943</td>\n",
       "      <td>0</td>\n",
       "      <td>1</td>\n",
       "    </tr>\n",
       "    <tr>\n",
       "      <th>4</th>\n",
       "      <td>06YUNBA9ZRLq</td>\n",
       "      <td>0.100683</td>\n",
       "      <td>0.103170</td>\n",
       "      <td>0.046506</td>\n",
       "      <td>0.127893</td>\n",
       "      <td>0.075231</td>\n",
       "      <td>0.019648</td>\n",
       "      <td>0.116546</td>\n",
       "      <td>0.035825</td>\n",
       "      <td>0.044905</td>\n",
       "      <td>...</td>\n",
       "      <td>-0.005693</td>\n",
       "      <td>-0.001515</td>\n",
       "      <td>0.166933</td>\n",
       "      <td>0.005170</td>\n",
       "      <td>0.005126</td>\n",
       "      <td>0.126259</td>\n",
       "      <td>-0.038223</td>\n",
       "      <td>0.181322</td>\n",
       "      <td>1</td>\n",
       "      <td>0</td>\n",
       "    </tr>\n",
       "  </tbody>\n",
       "</table>\n",
       "<p>5 rows × 19903 columns</p>\n",
       "</div>"
      ],
      "text/plain": [
       "  participant_id  0throw_1thcolumn  0throw_2thcolumn  0throw_3thcolumn  \\\n",
       "0   00aIpNTbG5uh          0.047912          0.147614          0.035215   \n",
       "1   00fV0OyyoLfw         -0.003560          0.131635          0.067454   \n",
       "2   04X1eiS79T4B         -0.076074          0.162668          0.050365   \n",
       "3   05ocQutkURd6          0.054913          0.160764          0.150480   \n",
       "4   06YUNBA9ZRLq          0.100683          0.103170          0.046506   \n",
       "\n",
       "   0throw_4thcolumn  0throw_5thcolumn  0throw_6thcolumn  0throw_7thcolumn  \\\n",
       "0          0.041143          0.070673          0.080293          0.063638   \n",
       "1          0.073367          0.013845          0.198074          0.038971   \n",
       "2          0.035320          0.055263          0.047298          0.155932   \n",
       "3          0.113151          0.135581          0.118498          0.032319   \n",
       "4          0.127893          0.075231          0.019648          0.116546   \n",
       "\n",
       "   0throw_8thcolumn  0throw_9thcolumn  ...  195throw_198thcolumn  \\\n",
       "0         -0.016682          0.043650  ...             -0.031380   \n",
       "1         -0.109366         -0.034447  ...              0.038632   \n",
       "2          0.012768          0.084281  ...              0.013774   \n",
       "3         -0.078683         -0.013995  ...             -0.075685   \n",
       "4          0.035825          0.044905  ...             -0.005693   \n",
       "\n",
       "   195throw_199thcolumn  196throw_197thcolumn  196throw_198thcolumn  \\\n",
       "0              0.032986              0.081980              0.093708   \n",
       "1             -0.042040              0.125651              0.127045   \n",
       "2             -0.057094              0.084471              0.075582   \n",
       "3             -0.029209              0.087122              0.009254   \n",
       "4             -0.001515              0.166933              0.005170   \n",
       "\n",
       "   196throw_199thcolumn  197throw_198thcolumn  197throw_199thcolumn  \\\n",
       "0              0.021903              0.029458             -0.016072   \n",
       "1              0.142448              0.051943              0.138729   \n",
       "2              0.093687              0.091592              0.114817   \n",
       "3              0.114800              0.218728              0.090305   \n",
       "4              0.005126              0.126259             -0.038223   \n",
       "\n",
       "   198throw_199thcolumn  ADHD_Outcome  Sex_F  \n",
       "0              0.169368             1      0  \n",
       "1              0.168951             1      0  \n",
       "2              0.157812             0      1  \n",
       "3              0.159943             0      1  \n",
       "4              0.181322             1      0  \n",
       "\n",
       "[5 rows x 19903 columns]"
      ]
     },
     "execution_count": 148,
     "metadata": {},
     "output_type": "execute_result"
    }
   ],
   "source": [
    "df = pd.read_csv('Cleaned_fMRI.csv')\n",
    "df.head()"
   ]
  },
  {
   "cell_type": "code",
   "execution_count": 3,
   "id": "9ba0348f",
   "metadata": {},
   "outputs": [
    {
     "data": {
      "text/plain": [
       "(1213, 19903)"
      ]
     },
     "execution_count": 3,
     "metadata": {},
     "output_type": "execute_result"
    }
   ],
   "source": [
    "df.shape"
   ]
  },
  {
   "cell_type": "markdown",
   "id": "a34b708b",
   "metadata": {},
   "source": [
    "<span style=\"font-family: Century Gothic; font-size:15px\">Checking the null values</span>"
   ]
  },
  {
   "cell_type": "code",
   "execution_count": 7,
   "id": "d74bae6f",
   "metadata": {},
   "outputs": [
    {
     "data": {
      "text/plain": [
       "np.float64(0.0)"
      ]
     },
     "execution_count": 7,
     "metadata": {},
     "output_type": "execute_result"
    }
   ],
   "source": [
    "np.mean(df.isnull().sum())"
   ]
  },
  {
   "cell_type": "markdown",
   "id": "311151eb",
   "metadata": {},
   "source": [
    "<span style=\"font-family: Century Gothic; font-size:25px\">Dataset Summary:</span>\n",
    "\n",
    "<span style=\"font-family: Century Gothic; font-size:15px\">`1213` samples with `19903` features. </span>\n",
    "\n",
    "<span style=\"font-family: Century Gothic; font-size:15px\"> No missing values, meaning the dataset is fully preprocessed. </span>\n",
    "\n",
    "<span style=\"font-family: Century Gothic; font-size:25px\"> Target Variables: </span>\n",
    "\n",
    "<span style=\"font-family: Century Gothic; font-size:15px\"> ADHD_Outcome `0 = No ADHD`, `1 = ADHD`</span>\n",
    "\n",
    "<span style=\"font-family: Century Gothic; font-size:15px\"> Sex_F `0 = Male`, `1 = Female`</span>"
   ]
  },
  {
   "cell_type": "code",
   "execution_count": 5,
   "id": "436bc0da",
   "metadata": {},
   "outputs": [],
   "source": [
    "df_model = df.copy()"
   ]
  },
  {
   "cell_type": "markdown",
   "id": "e421662d",
   "metadata": {},
   "source": [
    "# <span style=\"font-family: Century Gothic\"> fMRI Modelling </span>"
   ]
  },
  {
   "cell_type": "code",
   "execution_count": 149,
   "id": "52bf91e9",
   "metadata": {},
   "outputs": [],
   "source": [
    "# Drop participant ID, extract labels\n",
    "X = df_model.drop(columns=['participant_id', 'ADHD_Outcome', 'Sex_F']).values\n",
    "y_adhd = df_model['ADHD_Outcome'].values\n",
    "y_sex = df_model['Sex_F'].values"
   ]
  },
  {
   "cell_type": "code",
   "execution_count": 8,
   "id": "d529a6b6",
   "metadata": {},
   "outputs": [],
   "source": [
    "# Train/Test Split\n",
    "X_train_adhd, X_test_adhd, y_train_adhd, y_test_adhd = train_test_split(\n",
    "    X, \n",
    "    y_adhd, \n",
    "    test_size=0.2, \n",
    "    stratify=y_adhd, \n",
    "    random_state=42\n",
    ")\n",
    "\n",
    "X_train_sex, X_test_sex, y_train_sex, y_test_sex = train_test_split(\n",
    "    X, \n",
    "    y_sex, \n",
    "    test_size=0.2, \n",
    "    stratify=y_sex, \n",
    "    random_state=42\n",
    ")"
   ]
  },
  {
   "cell_type": "markdown",
   "id": "cfe481ce",
   "metadata": {},
   "source": [
    "# <span style=\"font-family: Century Gothic; font-size:15px\"> Normalize Data </span>"
   ]
  },
  {
   "cell_type": "code",
   "execution_count": 9,
   "id": "52225f47",
   "metadata": {},
   "outputs": [],
   "source": [
    "scaler = StandardScaler()\n",
    "X_train_adhd_scaled = scaler.fit_transform(X_train_adhd)\n",
    "X_test_adhd_scaled = scaler.transform(X_test_adhd)\n",
    "X_train_sex_scaled = scaler.fit_transform(X_train_sex)\n",
    "X_test_sex_scaled = scaler.transform(X_test_sex)"
   ]
  },
  {
   "cell_type": "markdown",
   "id": "0beb72f2",
   "metadata": {},
   "source": [
    "# <span style=\"font-family: Century Gothic; font-size:15px\"> Model Architecture </span>"
   ]
  },
  {
   "cell_type": "code",
   "execution_count": 140,
   "id": "3e8d1ab5",
   "metadata": {},
   "outputs": [],
   "source": [
    "# Define Dense Model Architecture\n",
    "def create_model(input_dim, lr=0.001, dropout_rate=0.3):\n",
    "    optimizer = tf.keras.optimizers.Adam(learning_rate=lr)\n",
    "    \n",
    "    model = tf.keras.models.Sequential([\n",
    "        tf.keras.layers.Dense(512, activation='relu', input_shape=(input_dim,)),\n",
    "        tf.keras.layers.Dropout(dropout_rate),\n",
    "        \n",
    "        tf.keras.layers.Dense(256, activation='relu'),\n",
    "        tf.keras.layers.Dropout(dropout_rate),\n",
    "        \n",
    "        tf.keras.layers.Dense(1, activation='sigmoid')\n",
    "    ])\n",
    "    \n",
    "    model.compile(\n",
    "        optimizer,\n",
    "        loss=tf.keras.losses.BinaryCrossentropy(),\n",
    "        metrics=['accuracy']\n",
    "    )\n",
    "    \n",
    "    return model"
   ]
  },
  {
   "cell_type": "code",
   "execution_count": 108,
   "id": "b8fae97a",
   "metadata": {},
   "outputs": [],
   "source": [
    "# Checkpoint\n",
    "adhd_ckpt = 'adhd_best_model.keras'\n",
    "sex_ckpt = 'sex_best_model.keras'"
   ]
  },
  {
   "cell_type": "markdown",
   "id": "90286871",
   "metadata": {},
   "source": [
    "# <span style=\"font-family: Century Gothic;\"> ADHD Modelling </span>"
   ]
  },
  {
   "cell_type": "code",
   "execution_count": null,
   "id": "9243a33f",
   "metadata": {},
   "outputs": [],
   "source": [
    "# Early Stopping\n",
    "callbacks = [\n",
    "    tf.keras.callbacks.EarlyStopping(\n",
    "        monitor='val_loss',\n",
    "        patience=5,\n",
    "        restore_best_weights=True\n",
    "    ),\n",
    "    \n",
    "    tf.keras.callbacks.ModelCheckpoint(\n",
    "        filepath=adhd_ckpt,\n",
    "        monitor='val_loss',\n",
    "        save_best_only=True\n",
    "    )\n",
    "]"
   ]
  },
  {
   "cell_type": "markdown",
   "id": "173008b5",
   "metadata": {},
   "source": [
    "<span style=\"font-family: Century Gothic; font-size:15px\"> Train ADHD Model </span>"
   ]
  },
  {
   "cell_type": "code",
   "execution_count": 141,
   "id": "126bf066",
   "metadata": {},
   "outputs": [
    {
     "name": "stderr",
     "output_type": "stream",
     "text": [
      "c:\\Users\\Administrator\\Essex\\CE888\\venv\\Lib\\site-packages\\keras\\src\\layers\\core\\dense.py:87: UserWarning: Do not pass an `input_shape`/`input_dim` argument to a layer. When using Sequential models, prefer using an `Input(shape)` object as the first layer in the model instead.\n",
      "  super().__init__(activity_regularizer=activity_regularizer, **kwargs)\n"
     ]
    },
    {
     "data": {
      "text/html": [
       "<pre style=\"white-space:pre;overflow-x:auto;line-height:normal;font-family:Menlo,'DejaVu Sans Mono',consolas,'Courier New',monospace\"><span style=\"font-weight: bold\">Model: \"sequential_5\"</span>\n",
       "</pre>\n"
      ],
      "text/plain": [
       "\u001b[1mModel: \"sequential_5\"\u001b[0m\n"
      ]
     },
     "metadata": {},
     "output_type": "display_data"
    },
    {
     "data": {
      "text/html": [
       "<pre style=\"white-space:pre;overflow-x:auto;line-height:normal;font-family:Menlo,'DejaVu Sans Mono',consolas,'Courier New',monospace\">┏━━━━━━━━━━━━━━━━━━━━━━━━━━━━━━━━━┳━━━━━━━━━━━━━━━━━━━━━━━━┳━━━━━━━━━━━━━━━┓\n",
       "┃<span style=\"font-weight: bold\"> Layer (type)                    </span>┃<span style=\"font-weight: bold\"> Output Shape           </span>┃<span style=\"font-weight: bold\">       Param # </span>┃\n",
       "┡━━━━━━━━━━━━━━━━━━━━━━━━━━━━━━━━━╇━━━━━━━━━━━━━━━━━━━━━━━━╇━━━━━━━━━━━━━━━┩\n",
       "│ dense_15 (<span style=\"color: #0087ff; text-decoration-color: #0087ff\">Dense</span>)                │ (<span style=\"color: #00d7ff; text-decoration-color: #00d7ff\">None</span>, <span style=\"color: #00af00; text-decoration-color: #00af00\">512</span>)            │    <span style=\"color: #00af00; text-decoration-color: #00af00\">10,189,312</span> │\n",
       "├─────────────────────────────────┼────────────────────────┼───────────────┤\n",
       "│ dropout_10 (<span style=\"color: #0087ff; text-decoration-color: #0087ff\">Dropout</span>)            │ (<span style=\"color: #00d7ff; text-decoration-color: #00d7ff\">None</span>, <span style=\"color: #00af00; text-decoration-color: #00af00\">512</span>)            │             <span style=\"color: #00af00; text-decoration-color: #00af00\">0</span> │\n",
       "├─────────────────────────────────┼────────────────────────┼───────────────┤\n",
       "│ dense_16 (<span style=\"color: #0087ff; text-decoration-color: #0087ff\">Dense</span>)                │ (<span style=\"color: #00d7ff; text-decoration-color: #00d7ff\">None</span>, <span style=\"color: #00af00; text-decoration-color: #00af00\">256</span>)            │       <span style=\"color: #00af00; text-decoration-color: #00af00\">131,328</span> │\n",
       "├─────────────────────────────────┼────────────────────────┼───────────────┤\n",
       "│ dropout_11 (<span style=\"color: #0087ff; text-decoration-color: #0087ff\">Dropout</span>)            │ (<span style=\"color: #00d7ff; text-decoration-color: #00d7ff\">None</span>, <span style=\"color: #00af00; text-decoration-color: #00af00\">256</span>)            │             <span style=\"color: #00af00; text-decoration-color: #00af00\">0</span> │\n",
       "├─────────────────────────────────┼────────────────────────┼───────────────┤\n",
       "│ dense_17 (<span style=\"color: #0087ff; text-decoration-color: #0087ff\">Dense</span>)                │ (<span style=\"color: #00d7ff; text-decoration-color: #00d7ff\">None</span>, <span style=\"color: #00af00; text-decoration-color: #00af00\">1</span>)              │           <span style=\"color: #00af00; text-decoration-color: #00af00\">257</span> │\n",
       "└─────────────────────────────────┴────────────────────────┴───────────────┘\n",
       "</pre>\n"
      ],
      "text/plain": [
       "┏━━━━━━━━━━━━━━━━━━━━━━━━━━━━━━━━━┳━━━━━━━━━━━━━━━━━━━━━━━━┳━━━━━━━━━━━━━━━┓\n",
       "┃\u001b[1m \u001b[0m\u001b[1mLayer (type)                   \u001b[0m\u001b[1m \u001b[0m┃\u001b[1m \u001b[0m\u001b[1mOutput Shape          \u001b[0m\u001b[1m \u001b[0m┃\u001b[1m \u001b[0m\u001b[1m      Param #\u001b[0m\u001b[1m \u001b[0m┃\n",
       "┡━━━━━━━━━━━━━━━━━━━━━━━━━━━━━━━━━╇━━━━━━━━━━━━━━━━━━━━━━━━╇━━━━━━━━━━━━━━━┩\n",
       "│ dense_15 (\u001b[38;5;33mDense\u001b[0m)                │ (\u001b[38;5;45mNone\u001b[0m, \u001b[38;5;34m512\u001b[0m)            │    \u001b[38;5;34m10,189,312\u001b[0m │\n",
       "├─────────────────────────────────┼────────────────────────┼───────────────┤\n",
       "│ dropout_10 (\u001b[38;5;33mDropout\u001b[0m)            │ (\u001b[38;5;45mNone\u001b[0m, \u001b[38;5;34m512\u001b[0m)            │             \u001b[38;5;34m0\u001b[0m │\n",
       "├─────────────────────────────────┼────────────────────────┼───────────────┤\n",
       "│ dense_16 (\u001b[38;5;33mDense\u001b[0m)                │ (\u001b[38;5;45mNone\u001b[0m, \u001b[38;5;34m256\u001b[0m)            │       \u001b[38;5;34m131,328\u001b[0m │\n",
       "├─────────────────────────────────┼────────────────────────┼───────────────┤\n",
       "│ dropout_11 (\u001b[38;5;33mDropout\u001b[0m)            │ (\u001b[38;5;45mNone\u001b[0m, \u001b[38;5;34m256\u001b[0m)            │             \u001b[38;5;34m0\u001b[0m │\n",
       "├─────────────────────────────────┼────────────────────────┼───────────────┤\n",
       "│ dense_17 (\u001b[38;5;33mDense\u001b[0m)                │ (\u001b[38;5;45mNone\u001b[0m, \u001b[38;5;34m1\u001b[0m)              │           \u001b[38;5;34m257\u001b[0m │\n",
       "└─────────────────────────────────┴────────────────────────┴───────────────┘\n"
      ]
     },
     "metadata": {},
     "output_type": "display_data"
    },
    {
     "data": {
      "text/html": [
       "<pre style=\"white-space:pre;overflow-x:auto;line-height:normal;font-family:Menlo,'DejaVu Sans Mono',consolas,'Courier New',monospace\"><span style=\"font-weight: bold\"> Total params: </span><span style=\"color: #00af00; text-decoration-color: #00af00\">10,320,897</span> (39.37 MB)\n",
       "</pre>\n"
      ],
      "text/plain": [
       "\u001b[1m Total params: \u001b[0m\u001b[38;5;34m10,320,897\u001b[0m (39.37 MB)\n"
      ]
     },
     "metadata": {},
     "output_type": "display_data"
    },
    {
     "data": {
      "text/html": [
       "<pre style=\"white-space:pre;overflow-x:auto;line-height:normal;font-family:Menlo,'DejaVu Sans Mono',consolas,'Courier New',monospace\"><span style=\"font-weight: bold\"> Trainable params: </span><span style=\"color: #00af00; text-decoration-color: #00af00\">10,320,897</span> (39.37 MB)\n",
       "</pre>\n"
      ],
      "text/plain": [
       "\u001b[1m Trainable params: \u001b[0m\u001b[38;5;34m10,320,897\u001b[0m (39.37 MB)\n"
      ]
     },
     "metadata": {},
     "output_type": "display_data"
    },
    {
     "data": {
      "text/html": [
       "<pre style=\"white-space:pre;overflow-x:auto;line-height:normal;font-family:Menlo,'DejaVu Sans Mono',consolas,'Courier New',monospace\"><span style=\"font-weight: bold\"> Non-trainable params: </span><span style=\"color: #00af00; text-decoration-color: #00af00\">0</span> (0.00 B)\n",
       "</pre>\n"
      ],
      "text/plain": [
       "\u001b[1m Non-trainable params: \u001b[0m\u001b[38;5;34m0\u001b[0m (0.00 B)\n"
      ]
     },
     "metadata": {},
     "output_type": "display_data"
    }
   ],
   "source": [
    "# Train CNN for ADHD Classification\n",
    "cnn_adhd = create_model(X_train_adhd_scaled.shape[1])\n",
    "\n",
    "cnn_adhd.build()\n",
    "cnn_adhd.summary()"
   ]
  },
  {
   "cell_type": "code",
   "execution_count": 111,
   "id": "8b574777",
   "metadata": {},
   "outputs": [
    {
     "name": "stdout",
     "output_type": "stream",
     "text": [
      "Epoch 1/50\n",
      "\u001b[1m31/31\u001b[0m \u001b[32m━━━━━━━━━━━━━━━━━━━━\u001b[0m\u001b[37m\u001b[0m \u001b[1m4s\u001b[0m 98ms/step - accuracy: 0.6119 - loss: 0.8662 - val_accuracy: 0.5021 - val_loss: 0.8523\n",
      "Epoch 2/50\n",
      "\u001b[1m31/31\u001b[0m \u001b[32m━━━━━━━━━━━━━━━━━━━━\u001b[0m\u001b[37m\u001b[0m \u001b[1m2s\u001b[0m 76ms/step - accuracy: 0.9562 - loss: 0.1330 - val_accuracy: 0.5638 - val_loss: 0.9254\n",
      "Epoch 3/50\n",
      "\u001b[1m31/31\u001b[0m \u001b[32m━━━━━━━━━━━━━━━━━━━━\u001b[0m\u001b[37m\u001b[0m \u001b[1m2s\u001b[0m 74ms/step - accuracy: 0.9969 - loss: 0.0123 - val_accuracy: 0.5679 - val_loss: 1.0726\n",
      "Epoch 4/50\n",
      "\u001b[1m31/31\u001b[0m \u001b[32m━━━━━━━━━━━━━━━━━━━━\u001b[0m\u001b[37m\u001b[0m \u001b[1m2s\u001b[0m 73ms/step - accuracy: 0.9991 - loss: 0.0098 - val_accuracy: 0.5473 - val_loss: 1.0991\n",
      "Epoch 5/50\n",
      "\u001b[1m31/31\u001b[0m \u001b[32m━━━━━━━━━━━━━━━━━━━━\u001b[0m\u001b[37m\u001b[0m \u001b[1m2s\u001b[0m 73ms/step - accuracy: 0.9966 - loss: 0.0181 - val_accuracy: 0.5062 - val_loss: 1.1961\n",
      "Epoch 6/50\n",
      "\u001b[1m31/31\u001b[0m \u001b[32m━━━━━━━━━━━━━━━━━━━━\u001b[0m\u001b[37m\u001b[0m \u001b[1m2s\u001b[0m 72ms/step - accuracy: 0.9970 - loss: 0.0064 - val_accuracy: 0.5267 - val_loss: 1.1950\n"
     ]
    }
   ],
   "source": [
    "history_adhd = cnn_adhd.fit(\n",
    "    X_train_adhd_scaled, \n",
    "    y_train_adhd, \n",
    "    epochs=50, \n",
    "    batch_size=32, \n",
    "    validation_data=(X_test_adhd_scaled, y_test_adhd),\n",
    "    callbacks=callbacks,\n",
    "    verbose=1\n",
    ")"
   ]
  },
  {
   "cell_type": "markdown",
   "id": "f400c6d0",
   "metadata": {},
   "source": [
    "<span style=\"font-family: Century Gothic; font-size:15px\"> Plot Accuracy Curve </span>"
   ]
  },
  {
   "cell_type": "code",
   "execution_count": 112,
   "id": "f2e367d3",
   "metadata": {},
   "outputs": [
    {
     "data": {
      "image/png": "[encoded data removed]",
      "text/plain": [
       "<Figure size 640x480 with 1 Axes>"
      ]
     },
     "metadata": {},
     "output_type": "display_data"
    }
   ],
   "source": [
    "plt.plot(history_adhd.history['accuracy'], label='train_accuracy')\n",
    "plt.plot(history_adhd.history['val_accuracy'], label = 'val_accuracy')\n",
    "plt.xlabel('Epoch')\n",
    "plt.ylabel('Accuracy')\n",
    "plt.legend()\n",
    "plt.title('ADHD Training Accuracy')\n",
    "plt.show()"
   ]
  },
  {
   "cell_type": "code",
   "execution_count": 113,
   "id": "d55eadc2",
   "metadata": {},
   "outputs": [
    {
     "name": "stdout",
     "output_type": "stream",
     "text": [
      "\u001b[1m8/8\u001b[0m \u001b[32m━━━━━━━━━━━━━━━━━━━━\u001b[0m\u001b[37m\u001b[0m \u001b[1m0s\u001b[0m 11ms/step\n"
     ]
    }
   ],
   "source": [
    "# Evaluate Model\n",
    "y_pred_adhd = (\n",
    "    cnn_adhd.predict(X_test_adhd_scaled) > 0.5\n",
    ").astype(int)"
   ]
  },
  {
   "cell_type": "code",
   "execution_count": 114,
   "id": "e43b8fcd",
   "metadata": {},
   "outputs": [
    {
     "name": "stdout",
     "output_type": "stream",
     "text": [
      "\n",
      "🔹 ADHD Classification Report:\n",
      "               precision    recall  f1-score   support\n",
      "\n",
      "           0       0.31      0.48      0.38        77\n",
      "           1       0.68      0.51      0.58       166\n",
      "\n",
      "    accuracy                           0.50       243\n",
      "   macro avg       0.50      0.50      0.48       243\n",
      "weighted avg       0.56      0.50      0.52       243\n",
      "\n",
      "\u001b[1m8/8\u001b[0m \u001b[32m━━━━━━━━━━━━━━━━━━━━\u001b[0m\u001b[37m\u001b[0m \u001b[1m0s\u001b[0m 7ms/step \n",
      "🔹 ADHD ROC AUC Score: 0.49421060866843997\n"
     ]
    }
   ],
   "source": [
    "print(\"\\n🔹 ADHD Classification Report:\\n\", \n",
    "    classification_report(y_test_adhd, y_pred_adhd)\n",
    ")\n",
    "print(\"🔹 ADHD ROC AUC Score:\", \n",
    "    roc_auc_score(\n",
    "        y_test_adhd, \n",
    "        cnn_adhd.predict(X_test_adhd_scaled)\n",
    "    )\n",
    ")"
   ]
  },
  {
   "cell_type": "code",
   "execution_count": 115,
   "id": "b4ca292a",
   "metadata": {},
   "outputs": [],
   "source": [
    "pd.DataFrame(y_pred_adhd, columns=[\"ADHD_Prediction\"]).to_csv(\"adhd_predictions.csv\", index=False)"
   ]
  },
  {
   "cell_type": "markdown",
   "id": "4dffbd69",
   "metadata": {},
   "source": [
    "# <span style=\"font-family: Century Gothic;\"> Sex Modelling </span>"
   ]
  },
  {
   "cell_type": "code",
   "execution_count": 142,
   "id": "de1e13d1",
   "metadata": {},
   "outputs": [],
   "source": [
    "callbacks[1] = [\n",
    "    tf.keras.callbacks.ModelCheckpoint(\n",
    "        filepath=sex_ckpt,\n",
    "        monitor='val_loss',\n",
    "        save_best_only=True\n",
    "    )\n",
    "]"
   ]
  },
  {
   "cell_type": "code",
   "execution_count": 143,
   "id": "01bfe87b",
   "metadata": {},
   "outputs": [
    {
     "name": "stderr",
     "output_type": "stream",
     "text": [
      "c:\\Users\\Administrator\\Essex\\CE888\\venv\\Lib\\site-packages\\keras\\src\\layers\\core\\dense.py:87: UserWarning: Do not pass an `input_shape`/`input_dim` argument to a layer. When using Sequential models, prefer using an `Input(shape)` object as the first layer in the model instead.\n",
      "  super().__init__(activity_regularizer=activity_regularizer, **kwargs)\n"
     ]
    },
    {
     "data": {
      "text/html": [
       "<pre style=\"white-space:pre;overflow-x:auto;line-height:normal;font-family:Menlo,'DejaVu Sans Mono',consolas,'Courier New',monospace\"><span style=\"font-weight: bold\">Model: \"sequential_6\"</span>\n",
       "</pre>\n"
      ],
      "text/plain": [
       "\u001b[1mModel: \"sequential_6\"\u001b[0m\n"
      ]
     },
     "metadata": {},
     "output_type": "display_data"
    },
    {
     "data": {
      "text/html": [
       "<pre style=\"white-space:pre;overflow-x:auto;line-height:normal;font-family:Menlo,'DejaVu Sans Mono',consolas,'Courier New',monospace\">┏━━━━━━━━━━━━━━━━━━━━━━━━━━━━━━━━━┳━━━━━━━━━━━━━━━━━━━━━━━━┳━━━━━━━━━━━━━━━┓\n",
       "┃<span style=\"font-weight: bold\"> Layer (type)                    </span>┃<span style=\"font-weight: bold\"> Output Shape           </span>┃<span style=\"font-weight: bold\">       Param # </span>┃\n",
       "┡━━━━━━━━━━━━━━━━━━━━━━━━━━━━━━━━━╇━━━━━━━━━━━━━━━━━━━━━━━━╇━━━━━━━━━━━━━━━┩\n",
       "│ dense_18 (<span style=\"color: #0087ff; text-decoration-color: #0087ff\">Dense</span>)                │ (<span style=\"color: #00d7ff; text-decoration-color: #00d7ff\">None</span>, <span style=\"color: #00af00; text-decoration-color: #00af00\">512</span>)            │    <span style=\"color: #00af00; text-decoration-color: #00af00\">10,189,312</span> │\n",
       "├─────────────────────────────────┼────────────────────────┼───────────────┤\n",
       "│ dropout_12 (<span style=\"color: #0087ff; text-decoration-color: #0087ff\">Dropout</span>)            │ (<span style=\"color: #00d7ff; text-decoration-color: #00d7ff\">None</span>, <span style=\"color: #00af00; text-decoration-color: #00af00\">512</span>)            │             <span style=\"color: #00af00; text-decoration-color: #00af00\">0</span> │\n",
       "├─────────────────────────────────┼────────────────────────┼───────────────┤\n",
       "│ dense_19 (<span style=\"color: #0087ff; text-decoration-color: #0087ff\">Dense</span>)                │ (<span style=\"color: #00d7ff; text-decoration-color: #00d7ff\">None</span>, <span style=\"color: #00af00; text-decoration-color: #00af00\">256</span>)            │       <span style=\"color: #00af00; text-decoration-color: #00af00\">131,328</span> │\n",
       "├─────────────────────────────────┼────────────────────────┼───────────────┤\n",
       "│ dropout_13 (<span style=\"color: #0087ff; text-decoration-color: #0087ff\">Dropout</span>)            │ (<span style=\"color: #00d7ff; text-decoration-color: #00d7ff\">None</span>, <span style=\"color: #00af00; text-decoration-color: #00af00\">256</span>)            │             <span style=\"color: #00af00; text-decoration-color: #00af00\">0</span> │\n",
       "├─────────────────────────────────┼────────────────────────┼───────────────┤\n",
       "│ dense_20 (<span style=\"color: #0087ff; text-decoration-color: #0087ff\">Dense</span>)                │ (<span style=\"color: #00d7ff; text-decoration-color: #00d7ff\">None</span>, <span style=\"color: #00af00; text-decoration-color: #00af00\">1</span>)              │           <span style=\"color: #00af00; text-decoration-color: #00af00\">257</span> │\n",
       "└─────────────────────────────────┴────────────────────────┴───────────────┘\n",
       "</pre>\n"
      ],
      "text/plain": [
       "┏━━━━━━━━━━━━━━━━━━━━━━━━━━━━━━━━━┳━━━━━━━━━━━━━━━━━━━━━━━━┳━━━━━━━━━━━━━━━┓\n",
       "┃\u001b[1m \u001b[0m\u001b[1mLayer (type)                   \u001b[0m\u001b[1m \u001b[0m┃\u001b[1m \u001b[0m\u001b[1mOutput Shape          \u001b[0m\u001b[1m \u001b[0m┃\u001b[1m \u001b[0m\u001b[1m      Param #\u001b[0m\u001b[1m \u001b[0m┃\n",
       "┡━━━━━━━━━━━━━━━━━━━━━━━━━━━━━━━━━╇━━━━━━━━━━━━━━━━━━━━━━━━╇━━━━━━━━━━━━━━━┩\n",
       "│ dense_18 (\u001b[38;5;33mDense\u001b[0m)                │ (\u001b[38;5;45mNone\u001b[0m, \u001b[38;5;34m512\u001b[0m)            │    \u001b[38;5;34m10,189,312\u001b[0m │\n",
       "├─────────────────────────────────┼────────────────────────┼───────────────┤\n",
       "│ dropout_12 (\u001b[38;5;33mDropout\u001b[0m)            │ (\u001b[38;5;45mNone\u001b[0m, \u001b[38;5;34m512\u001b[0m)            │             \u001b[38;5;34m0\u001b[0m │\n",
       "├─────────────────────────────────┼────────────────────────┼───────────────┤\n",
       "│ dense_19 (\u001b[38;5;33mDense\u001b[0m)                │ (\u001b[38;5;45mNone\u001b[0m, \u001b[38;5;34m256\u001b[0m)            │       \u001b[38;5;34m131,328\u001b[0m │\n",
       "├─────────────────────────────────┼────────────────────────┼───────────────┤\n",
       "│ dropout_13 (\u001b[38;5;33mDropout\u001b[0m)            │ (\u001b[38;5;45mNone\u001b[0m, \u001b[38;5;34m256\u001b[0m)            │             \u001b[38;5;34m0\u001b[0m │\n",
       "├─────────────────────────────────┼────────────────────────┼───────────────┤\n",
       "│ dense_20 (\u001b[38;5;33mDense\u001b[0m)                │ (\u001b[38;5;45mNone\u001b[0m, \u001b[38;5;34m1\u001b[0m)              │           \u001b[38;5;34m257\u001b[0m │\n",
       "└─────────────────────────────────┴────────────────────────┴───────────────┘\n"
      ]
     },
     "metadata": {},
     "output_type": "display_data"
    },
    {
     "data": {
      "text/html": [
       "<pre style=\"white-space:pre;overflow-x:auto;line-height:normal;font-family:Menlo,'DejaVu Sans Mono',consolas,'Courier New',monospace\"><span style=\"font-weight: bold\"> Total params: </span><span style=\"color: #00af00; text-decoration-color: #00af00\">10,320,897</span> (39.37 MB)\n",
       "</pre>\n"
      ],
      "text/plain": [
       "\u001b[1m Total params: \u001b[0m\u001b[38;5;34m10,320,897\u001b[0m (39.37 MB)\n"
      ]
     },
     "metadata": {},
     "output_type": "display_data"
    },
    {
     "data": {
      "text/html": [
       "<pre style=\"white-space:pre;overflow-x:auto;line-height:normal;font-family:Menlo,'DejaVu Sans Mono',consolas,'Courier New',monospace\"><span style=\"font-weight: bold\"> Trainable params: </span><span style=\"color: #00af00; text-decoration-color: #00af00\">10,320,897</span> (39.37 MB)\n",
       "</pre>\n"
      ],
      "text/plain": [
       "\u001b[1m Trainable params: \u001b[0m\u001b[38;5;34m10,320,897\u001b[0m (39.37 MB)\n"
      ]
     },
     "metadata": {},
     "output_type": "display_data"
    },
    {
     "data": {
      "text/html": [
       "<pre style=\"white-space:pre;overflow-x:auto;line-height:normal;font-family:Menlo,'DejaVu Sans Mono',consolas,'Courier New',monospace\"><span style=\"font-weight: bold\"> Non-trainable params: </span><span style=\"color: #00af00; text-decoration-color: #00af00\">0</span> (0.00 B)\n",
       "</pre>\n"
      ],
      "text/plain": [
       "\u001b[1m Non-trainable params: \u001b[0m\u001b[38;5;34m0\u001b[0m (0.00 B)\n"
      ]
     },
     "metadata": {},
     "output_type": "display_data"
    }
   ],
   "source": [
    "# Train CNN for Sex Classification\n",
    "cnn_sex = create_model(X_train_sex_scaled.shape[1])\n",
    "\n",
    "cnn_sex.build()\n",
    "cnn_sex.summary()"
   ]
  },
  {
   "cell_type": "markdown",
   "id": "3850346b",
   "metadata": {},
   "source": [
    "<span style=\"font-family: Century Gothic; font-size:15px\"> Train Sex Model </span>"
   ]
  },
  {
   "cell_type": "code",
   "execution_count": 144,
   "id": "78fa38c3",
   "metadata": {},
   "outputs": [
    {
     "name": "stdout",
     "output_type": "stream",
     "text": [
      "Epoch 1/50\n",
      "\u001b[1m31/31\u001b[0m \u001b[32m━━━━━━━━━━━━━━━━━━━━\u001b[0m\u001b[37m\u001b[0m \u001b[1m5s\u001b[0m 121ms/step - accuracy: 0.5903 - loss: 0.8505 - val_accuracy: 0.5226 - val_loss: 3.3364\n",
      "Epoch 2/50\n",
      "\u001b[1m31/31\u001b[0m \u001b[32m━━━━━━━━━━━━━━━━━━━━\u001b[0m\u001b[37m\u001b[0m \u001b[1m3s\u001b[0m 85ms/step - accuracy: 0.9701 - loss: 0.1031 - val_accuracy: 0.5062 - val_loss: 5.0527\n",
      "Epoch 3/50\n",
      "\u001b[1m31/31\u001b[0m \u001b[32m━━━━━━━━━━━━━━━━━━━━\u001b[0m\u001b[37m\u001b[0m \u001b[1m3s\u001b[0m 79ms/step - accuracy: 0.9903 - loss: 0.0556 - val_accuracy: 0.4938 - val_loss: 6.4802\n",
      "Epoch 4/50\n",
      "\u001b[1m31/31\u001b[0m \u001b[32m━━━━━━━━━━━━━━━━━━━━\u001b[0m\u001b[37m\u001b[0m \u001b[1m3s\u001b[0m 80ms/step - accuracy: 1.0000 - loss: 0.0011 - val_accuracy: 0.4938 - val_loss: 6.8178\n",
      "Epoch 5/50\n",
      "\u001b[1m31/31\u001b[0m \u001b[32m━━━━━━━━━━━━━━━━━━━━\u001b[0m\u001b[37m\u001b[0m \u001b[1m2s\u001b[0m 75ms/step - accuracy: 1.0000 - loss: 5.3581e-04 - val_accuracy: 0.4938 - val_loss: 7.0008\n",
      "Epoch 6/50\n",
      "\u001b[1m31/31\u001b[0m \u001b[32m━━━━━━━━━━━━━━━━━━━━\u001b[0m\u001b[37m\u001b[0m \u001b[1m2s\u001b[0m 77ms/step - accuracy: 0.9952 - loss: 0.0108 - val_accuracy: 0.5021 - val_loss: 7.6359\n"
     ]
    }
   ],
   "source": [
    "history_sex = cnn_sex.fit(\n",
    "    X_train_sex_scaled, \n",
    "    y_train_sex, \n",
    "    epochs=50, \n",
    "    batch_size=32, \n",
    "    validation_data=(X_test_adhd_scaled, y_test_sex),\n",
    "    callbacks=callbacks,\n",
    "    verbose=1\n",
    ")"
   ]
  },
  {
   "cell_type": "markdown",
   "id": "6c193cf4",
   "metadata": {},
   "source": [
    "<span style=\"font-family: Century Gothic; font-size:15px\"> Plot Accuracy Curve </span>"
   ]
  },
  {
   "cell_type": "code",
   "execution_count": 145,
   "id": "18d45624",
   "metadata": {},
   "outputs": [
    {
     "data": {
      "image/png": "[encoded data removed]",
      "text/plain": [
       "<Figure size 640x480 with 1 Axes>"
      ]
     },
     "metadata": {},
     "output_type": "display_data"
    }
   ],
   "source": [
    "plt.plot(history_sex.history['accuracy'], label='train_accuracy')\n",
    "plt.plot(history_sex.history['val_accuracy'], label = 'val_accuracy')\n",
    "plt.xlabel('Epoch')\n",
    "plt.ylabel('Accuracy')\n",
    "plt.legend()\n",
    "plt.title('Sex Training Accuracy')\n",
    "plt.show()"
   ]
  },
  {
   "cell_type": "code",
   "execution_count": 120,
   "id": "c281a217",
   "metadata": {},
   "outputs": [
    {
     "name": "stdout",
     "output_type": "stream",
     "text": [
      "\u001b[1m8/8\u001b[0m \u001b[32m━━━━━━━━━━━━━━━━━━━━\u001b[0m\u001b[37m\u001b[0m \u001b[1m0s\u001b[0m 12ms/step\n"
     ]
    }
   ],
   "source": [
    "y_pred_sex = (\n",
    "    cnn_sex.predict(X_test_sex_scaled) > 0.5\n",
    ").astype(\"int32\")"
   ]
  },
  {
   "cell_type": "code",
   "execution_count": 121,
   "id": "bd61dff6",
   "metadata": {},
   "outputs": [
    {
     "name": "stdout",
     "output_type": "stream",
     "text": [
      "\n",
      "🔹 Sex Classification Report:\n",
      "               precision    recall  f1-score   support\n",
      "\n",
      "           0       0.74      0.78      0.76       160\n",
      "           1       0.53      0.48      0.51        83\n",
      "\n",
      "    accuracy                           0.68       243\n",
      "   macro avg       0.64      0.63      0.63       243\n",
      "weighted avg       0.67      0.68      0.67       243\n",
      "\n",
      "\u001b[1m8/8\u001b[0m \u001b[32m━━━━━━━━━━━━━━━━━━━━\u001b[0m\u001b[37m\u001b[0m \u001b[1m0s\u001b[0m 7ms/step \n",
      "🔹 Sex ROC AUC Score: 0.40120481927710844\n"
     ]
    }
   ],
   "source": [
    "print(\"\\n🔹 Sex Classification Report:\\n\", \n",
    "    classification_report(y_test_sex, y_pred_sex)\n",
    ")\n",
    "print(\"🔹 Sex ROC AUC Score:\", \n",
    "    roc_auc_score(\n",
    "        y_test_sex, \n",
    "        cnn_adhd.predict(X_test_sex_scaled)\n",
    "    )\n",
    ")"
   ]
  },
  {
   "cell_type": "code",
   "execution_count": 122,
   "id": "8a902045",
   "metadata": {},
   "outputs": [],
   "source": [
    "pd.DataFrame(y_pred_sex, columns=[\"Sex_Prediction\"]).to_csv(\"sex_predictions.csv\", index=False)"
   ]
  },
  {
   "cell_type": "markdown",
   "id": "5b082eb4",
   "metadata": {},
   "source": [
    "# <span style=\"font-family: Century Gothic\"> Hyperparameter Tuning for RandomForest"
   ]
  },
  {
   "cell_type": "code",
   "execution_count": 129,
   "id": "5dddb7af",
   "metadata": {},
   "outputs": [
    {
     "name": "stdout",
     "output_type": "stream",
     "text": [
      "\n",
      "🔍 Hyperparameter Tuning - Random Forest (ADHD)...\n",
      "Fitting 3 folds for each of 12 candidates, totalling 36 fits\n",
      "-----------------------------------------\n",
      "Best Params: {'max_depth': 10, 'min_samples_split': 5, 'n_estimators': 100}\n",
      "-----------------------------------------\n",
      "              precision    recall  f1-score   support\n",
      "\n",
      "           0       0.00      0.00      0.00        77\n",
      "           1       0.68      1.00      0.81       166\n",
      "\n",
      "    accuracy                           0.68       243\n",
      "   macro avg       0.34      0.50      0.41       243\n",
      "weighted avg       0.47      0.68      0.55       243\n",
      "\n",
      "-----------------------------------------\n",
      "ROC AUC Score: 0.5844\n",
      "-----------------------------------------\n"
     ]
    },
    {
     "name": "stderr",
     "output_type": "stream",
     "text": [
      "c:\\Users\\Administrator\\Essex\\CE888\\venv\\Lib\\site-packages\\sklearn\\metrics\\_classification.py:1565: UndefinedMetricWarning: Precision is ill-defined and being set to 0.0 in labels with no predicted samples. Use `zero_division` parameter to control this behavior.\n",
      "  _warn_prf(average, modifier, f\"{metric.capitalize()} is\", len(result))\n",
      "c:\\Users\\Administrator\\Essex\\CE888\\venv\\Lib\\site-packages\\sklearn\\metrics\\_classification.py:1565: UndefinedMetricWarning: Precision is ill-defined and being set to 0.0 in labels with no predicted samples. Use `zero_division` parameter to control this behavior.\n",
      "  _warn_prf(average, modifier, f\"{metric.capitalize()} is\", len(result))\n",
      "c:\\Users\\Administrator\\Essex\\CE888\\venv\\Lib\\site-packages\\sklearn\\metrics\\_classification.py:1565: UndefinedMetricWarning: Precision is ill-defined and being set to 0.0 in labels with no predicted samples. Use `zero_division` parameter to control this behavior.\n",
      "  _warn_prf(average, modifier, f\"{metric.capitalize()} is\", len(result))\n"
     ]
    },
    {
     "data": {
      "text/plain": [
       "['adhd_rf_model.pkl']"
      ]
     },
     "execution_count": 129,
     "metadata": {},
     "output_type": "execute_result"
    }
   ],
   "source": [
    "print(\"\\n🔍 Hyperparameter Tuning - Random Forest (ADHD)...\")\n",
    "rfc = RandomForestClassifier(random_state=42)\n",
    "param_grid = {\n",
    "    'n_estimators': [100, 150],\n",
    "    'max_depth': [None, 10, 20],\n",
    "    'min_samples_split': [2, 5],\n",
    "}\n",
    "rf_grid = GridSearchCV(\n",
    "    rfc, \n",
    "    param_grid, \n",
    "    cv=3, \n",
    "    scoring='f1', \n",
    "    verbose=1\n",
    ")\n",
    "\n",
    "rf_grid.fit(X_train_adhd_scaled, y_train_adhd)\n",
    "rf_best = rf_grid.best_estimator_\n",
    "\n",
    "y_pred = rf_best.predict(X_test_adhd_scaled)\n",
    "y_proba = rf_best.predict_proba(X_test_adhd_scaled)[:, 1]\n",
    "\n",
    "print('-----------------------------------------')\n",
    "print(f'Best Params: {rf_grid.best_params_}')\n",
    "print('-----------------------------------------')\n",
    "print(classification_report(y_test_adhd, y_pred))\n",
    "print('-----------------------------------------')\n",
    "print(f'ROC AUC Score: {roc_auc_score(y_test_adhd, y_proba):.4f}')\n",
    "print('-----------------------------------------')\n",
    "\n",
    "joblib.dump(rf_best, \"adhd_rf_model.pkl\")"
   ]
  },
  {
   "cell_type": "markdown",
   "id": "567362bf",
   "metadata": {},
   "source": [
    "# <span style=\"font-family: Century Gothic\"> Hyperparameter Tuning for MLP"
   ]
  },
  {
   "cell_type": "code",
   "execution_count": 130,
   "id": "fe2f6a38",
   "metadata": {},
   "outputs": [
    {
     "name": "stdout",
     "output_type": "stream",
     "text": [
      "\n",
      "🔍 Hyperparameter Tuning - MLP (Sex)...\n",
      "Fitting 3 folds for each of 8 candidates, totalling 24 fits\n",
      "-----------------------------------------\n",
      "Best Params: {'activation': 'relu', 'alpha': 0.001, 'hidden_layer_sizes': (100,)}\n",
      "-----------------------------------------\n",
      "              precision    recall  f1-score   support\n",
      "\n",
      "           0       0.82      0.75      0.78       160\n",
      "           1       0.59      0.69      0.63        83\n",
      "\n",
      "    accuracy                           0.73       243\n",
      "   macro avg       0.70      0.72      0.71       243\n",
      "weighted avg       0.74      0.73      0.73       243\n",
      "\n",
      "-----------------------------------------\n",
      "ROC AUC Score: 0.7792\n",
      "-----------------------------------------\n"
     ]
    },
    {
     "data": {
      "text/plain": [
       "['sex_mlp_model.pkl']"
      ]
     },
     "execution_count": 130,
     "metadata": {},
     "output_type": "execute_result"
    }
   ],
   "source": [
    "print(\"\\n🔍 Hyperparameter Tuning - MLP (Sex)...\")\n",
    "\n",
    "mlp = MLPClassifier(max_iter=300)\n",
    "mlp_params = {\n",
    "    'hidden_layer_sizes': [(100,), (50, 50)],\n",
    "    'activation': ['relu', 'tanh'],\n",
    "    'alpha': [0.0001, 0.001]\n",
    "}\n",
    "\n",
    "mlp_grid = GridSearchCV(\n",
    "    mlp, \n",
    "    mlp_params, \n",
    "    cv=3, \n",
    "    scoring='accuracy', \n",
    "    verbose=1\n",
    ")\n",
    "\n",
    "mlp_grid.fit(X_train_sex_scaled, y_train_sex)\n",
    "mlp_best = mlp_grid.best_estimator_\n",
    "\n",
    "y_pred = mlp_best.predict(X_test_sex_scaled)\n",
    "y_proba = mlp_best.predict_proba(X_test_sex_scaled)[:, 1]\n",
    "\n",
    "print('-----------------------------------------')\n",
    "print(f'Best Params: {mlp_grid.best_params_}')\n",
    "print('-----------------------------------------')\n",
    "print(classification_report(y_test_sex, y_pred))\n",
    "print('-----------------------------------------')\n",
    "print(f'ROC AUC Score: {roc_auc_score(y_test_sex, y_proba):.4f}')\n",
    "print('-----------------------------------------')\n",
    "\n",
    "joblib.dump(mlp_best, \"sex_mlp_model.pkl\")"
   ]
  },
  {
   "cell_type": "markdown",
   "id": "6f13d3d8",
   "metadata": {},
   "source": [
    "# <span style=\"font-family: Century Gothic\"> Model Comparison"
   ]
  },
  {
   "cell_type": "code",
   "execution_count": 132,
   "id": "9ff42815",
   "metadata": {},
   "outputs": [],
   "source": [
    "models = {\n",
    "    \"CNN_ADHD\": (cnn_adhd, X_test_adhd_scaled, y_test_adhd),\n",
    "    \"RF_ADHD\": (rf_best, X_test_adhd_scaled, y_test_adhd),\n",
    "    \"CNN_Sex\": (cnn_sex, X_test_sex_scaled, y_test_sex),\n",
    "    \"MLP_Sex\": (mlp_best, X_test_sex_scaled, y_test_sex)\n",
    "}"
   ]
  },
  {
   "cell_type": "code",
   "execution_count": 133,
   "id": "d37e4d23",
   "metadata": {},
   "outputs": [
    {
     "name": "stdout",
     "output_type": "stream",
     "text": [
      "\u001b[1m8/8\u001b[0m \u001b[32m━━━━━━━━━━━━━━━━━━━━\u001b[0m\u001b[37m\u001b[0m \u001b[1m0s\u001b[0m 13ms/step\n",
      "\u001b[1m8/8\u001b[0m \u001b[32m━━━━━━━━━━━━━━━━━━━━\u001b[0m\u001b[37m\u001b[0m \u001b[1m0s\u001b[0m 22ms/step\n"
     ]
    }
   ],
   "source": [
    "results = []\n",
    "for name, (model, X_test, y_true) in models.items():\n",
    "    if 'CNN' in name:\n",
    "        y_pred = (model.predict(X_test) > 0.5).astype(int)\n",
    "    else:\n",
    "        y_pred = model.predict(X_test)\n",
    "        \n",
    "    results.append({\n",
    "        \"Model\": name,\n",
    "        \"Accuracy\": accuracy_score(y_true, y_pred),\n",
    "        \"F1 Score\": f1_score(y_true, y_pred),\n",
    "        \"ROC AUC\": roc_auc_score(y_true, y_pred)\n",
    "    })"
   ]
  },
  {
   "cell_type": "code",
   "execution_count": 135,
   "id": "d5eeebdb",
   "metadata": {},
   "outputs": [
    {
     "data": {
      "text/html": [
       "<div>\n",
       "<style scoped>\n",
       "    .dataframe tbody tr th:only-of-type {\n",
       "        vertical-align: middle;\n",
       "    }\n",
       "\n",
       "    .dataframe tbody tr th {\n",
       "        vertical-align: top;\n",
       "    }\n",
       "\n",
       "    .dataframe thead th {\n",
       "        text-align: right;\n",
       "    }\n",
       "</style>\n",
       "<table border=\"1\" class=\"dataframe\">\n",
       "  <thead>\n",
       "    <tr style=\"text-align: right;\">\n",
       "      <th></th>\n",
       "      <th>Model</th>\n",
       "      <th>Accuracy</th>\n",
       "      <th>F1 Score</th>\n",
       "      <th>ROC AUC</th>\n",
       "    </tr>\n",
       "  </thead>\n",
       "  <tbody>\n",
       "    <tr>\n",
       "      <th>0</th>\n",
       "      <td>CNN_ADHD</td>\n",
       "      <td>0.502058</td>\n",
       "      <td>0.584192</td>\n",
       "      <td>0.496284</td>\n",
       "    </tr>\n",
       "    <tr>\n",
       "      <th>1</th>\n",
       "      <td>RF_ADHD</td>\n",
       "      <td>0.683128</td>\n",
       "      <td>0.811736</td>\n",
       "      <td>0.500000</td>\n",
       "    </tr>\n",
       "    <tr>\n",
       "      <th>2</th>\n",
       "      <td>CNN_Sex</td>\n",
       "      <td>0.679012</td>\n",
       "      <td>0.506329</td>\n",
       "      <td>0.631589</td>\n",
       "    </tr>\n",
       "    <tr>\n",
       "      <th>3</th>\n",
       "      <td>MLP_Sex</td>\n",
       "      <td>0.728395</td>\n",
       "      <td>0.633333</td>\n",
       "      <td>0.718373</td>\n",
       "    </tr>\n",
       "  </tbody>\n",
       "</table>\n",
       "</div>"
      ],
      "text/plain": [
       "      Model  Accuracy  F1 Score   ROC AUC\n",
       "0  CNN_ADHD  0.502058  0.584192  0.496284\n",
       "1   RF_ADHD  0.683128  0.811736  0.500000\n",
       "2   CNN_Sex  0.679012  0.506329  0.631589\n",
       "3   MLP_Sex  0.728395  0.633333  0.718373"
      ]
     },
     "execution_count": 135,
     "metadata": {},
     "output_type": "execute_result"
    }
   ],
   "source": [
    "comparison_df = pd.DataFrame(results)\n",
    "\n",
    "comparison_df.to_csv(\"model_comparison_table.csv\", index=False)\n",
    "comparison_df"
   ]
  },
  {
   "cell_type": "markdown",
   "id": "83c6e5cc",
   "metadata": {},
   "source": [
    "<span style=\"font-family: Century Gothic\"> 🧠 ADHD Classification: </span>\n",
    "\n",
    "<span style=\"font-family: Century Gothic; font-size: 15px\"> Random Forest `RF_ADHD` significantly outperforms the `CNN` in terms of Accuracy `68.3%` and F1 Score `81.2%`, despite both models having low `ROC AUC`, indicating limited ability to rank predictions by confidence. </span>\n",
    "\n",
    "<span style=\"font-family: Century Gothic; font-size: 15px\">Conclusion: `RF` is more suitable for `ADHD` classification in this dataset. </span>\n",
    "\n",
    "<span style=\"font-family: Century Gothic\"> 🧬 Sex Classification: </span>\n",
    "\n",
    "<span style=\"font-family: Century Gothic; font-size: 15px\"> `MLP_Sex` shows the best performance across all metrics: Highest Accuracy `72.8%`, Highest F1 Score `63.3%`, Best ROC AUC `71.8%`. </span>\n",
    "\n",
    "<span style=\"font-family: Century Gothic; font-size: 15px\">Conclusion: `MLP` is more effective than `CNN` for classifying `SEX` from this `fMRI` data.</span>"
   ]
  },
  {
   "cell_type": "code",
   "execution_count": 136,
   "id": "56145b64",
   "metadata": {},
   "outputs": [
    {
     "data": {
      "image/png": "[encoded data removed]",
      "text/plain": [
       "<Figure size 1000x600 with 1 Axes>"
      ]
     },
     "metadata": {},
     "output_type": "display_data"
    }
   ],
   "source": [
    "# Melt for easier seaborn plotting\n",
    "comparison_melted = comparison_df.melt(id_vars='Model', var_name='Metric', value_name='Score')\n",
    "\n",
    "# Plot\n",
    "plt.figure(figsize=(10, 6))\n",
    "sns.barplot(data=comparison_melted, x='Model', y='Score', hue='Metric')\n",
    "plt.title(\"Model Comparison: Accuracy, F1 Score, ROC AUC\")\n",
    "plt.ylim(0, 1)\n",
    "plt.legend(bbox_to_anchor=(1.05, 1), loc='upper left')\n",
    "plt.tight_layout()\n",
    "plt.show()"
   ]
  }
 ],
 "metadata": {
  "kernelspec": {
   "display_name": "venv",
   "language": "python",
   "name": "python3"
  },
  "language_info": {
   "codemirror_mode": {
    "name": "ipython",
    "version": 3
   },
   "file_extension": ".py",
   "mimetype": "text/x-python",
   "name": "python",
   "nbconvert_exporter": "python",
   "pygments_lexer": "ipython3",
   "version": "3.12.6"
  }
 },
 "nbformat": 4,
 "nbformat_minor": 5
}
