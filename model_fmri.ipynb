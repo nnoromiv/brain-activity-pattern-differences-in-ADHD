{
 "cells": [
  {
   "cell_type": "markdown",
   "id": "683478ac",
   "metadata": {},
   "source": [
    "### <span style=\"font-family: Century Gothic\">Modelling and Testing (fMRI ADHD/Sex Classification)</span>"
   ]
  },
  {
   "cell_type": "code",
   "execution_count": 17,
   "id": "c2dda258",
   "metadata": {},
   "outputs": [],
   "source": [
    "import pandas as pd\n",
    "import numpy as np\n",
    "from sklearn.model_selection import train_test_split, GridSearchCV, cross_val_score\n",
    "import matplotlib.pyplot as plt\n",
    "import seaborn as sns\n",
    "from sklearn.metrics import classification_report, accuracy_score, f1_score, roc_auc_score\n",
    "from sklearn.ensemble import RandomForestClassifier\n",
    "from sklearn.preprocessing import StandardScaler\n",
    "from sklearn.neural_network import MLPClassifier\n",
    "from sklearn.utils.class_weight import compute_class_weight\n",
    "import tensorflow as tf\n",
    "import joblib"
   ]
  },
  {
   "cell_type": "markdown",
   "id": "028002af",
   "metadata": {},
   "source": [
    "<span style=\"font-family: Century Gothic; font-size:15px\">Load Dataset</span>"
   ]
  },
  {
   "cell_type": "code",
   "execution_count": 2,
   "id": "8259120c",
   "metadata": {},
   "outputs": [
    {
     "data": {
      "text/html": [
       "<div>\n",
       "<style scoped>\n",
       "    .dataframe tbody tr th:only-of-type {\n",
       "        vertical-align: middle;\n",
       "    }\n",
       "\n",
       "    .dataframe tbody tr th {\n",
       "        vertical-align: top;\n",
       "    }\n",
       "\n",
       "    .dataframe thead th {\n",
       "        text-align: right;\n",
       "    }\n",
       "</style>\n",
       "<table border=\"1\" class=\"dataframe\">\n",
       "  <thead>\n",
       "    <tr style=\"text-align: right;\">\n",
       "      <th></th>\n",
       "      <th>participant_id</th>\n",
       "      <th>0throw_1thcolumn</th>\n",
       "      <th>0throw_2thcolumn</th>\n",
       "      <th>0throw_3thcolumn</th>\n",
       "      <th>0throw_4thcolumn</th>\n",
       "      <th>0throw_5thcolumn</th>\n",
       "      <th>0throw_6thcolumn</th>\n",
       "      <th>0throw_7thcolumn</th>\n",
       "      <th>0throw_8thcolumn</th>\n",
       "      <th>0throw_9thcolumn</th>\n",
       "      <th>...</th>\n",
       "      <th>195throw_198thcolumn</th>\n",
       "      <th>195throw_199thcolumn</th>\n",
       "      <th>196throw_197thcolumn</th>\n",
       "      <th>196throw_198thcolumn</th>\n",
       "      <th>196throw_199thcolumn</th>\n",
       "      <th>197throw_198thcolumn</th>\n",
       "      <th>197throw_199thcolumn</th>\n",
       "      <th>198throw_199thcolumn</th>\n",
       "      <th>ADHD_Outcome</th>\n",
       "      <th>Sex_F</th>\n",
       "    </tr>\n",
       "  </thead>\n",
       "  <tbody>\n",
       "    <tr>\n",
       "      <th>0</th>\n",
       "      <td>00aIpNTbG5uh</td>\n",
       "      <td>0.047912</td>\n",
       "      <td>0.147614</td>\n",
       "      <td>0.035215</td>\n",
       "      <td>0.041143</td>\n",
       "      <td>0.070673</td>\n",
       "      <td>0.080293</td>\n",
       "      <td>0.063638</td>\n",
       "      <td>-0.016682</td>\n",
       "      <td>0.043650</td>\n",
       "      <td>...</td>\n",
       "      <td>-0.031380</td>\n",
       "      <td>0.032986</td>\n",
       "      <td>0.081980</td>\n",
       "      <td>0.093708</td>\n",
       "      <td>0.021903</td>\n",
       "      <td>0.029458</td>\n",
       "      <td>-0.016072</td>\n",
       "      <td>0.169368</td>\n",
       "      <td>1</td>\n",
       "      <td>0</td>\n",
       "    </tr>\n",
       "    <tr>\n",
       "      <th>1</th>\n",
       "      <td>00fV0OyyoLfw</td>\n",
       "      <td>-0.003560</td>\n",
       "      <td>0.131635</td>\n",
       "      <td>0.067454</td>\n",
       "      <td>0.073367</td>\n",
       "      <td>0.013845</td>\n",
       "      <td>0.198074</td>\n",
       "      <td>0.038971</td>\n",
       "      <td>-0.109366</td>\n",
       "      <td>-0.034447</td>\n",
       "      <td>...</td>\n",
       "      <td>0.038632</td>\n",
       "      <td>-0.042040</td>\n",
       "      <td>0.125651</td>\n",
       "      <td>0.127045</td>\n",
       "      <td>0.142448</td>\n",
       "      <td>0.051943</td>\n",
       "      <td>0.138729</td>\n",
       "      <td>0.168951</td>\n",
       "      <td>1</td>\n",
       "      <td>0</td>\n",
       "    </tr>\n",
       "    <tr>\n",
       "      <th>2</th>\n",
       "      <td>04X1eiS79T4B</td>\n",
       "      <td>-0.076074</td>\n",
       "      <td>0.162668</td>\n",
       "      <td>0.050365</td>\n",
       "      <td>0.035320</td>\n",
       "      <td>0.055263</td>\n",
       "      <td>0.047298</td>\n",
       "      <td>0.155932</td>\n",
       "      <td>0.012768</td>\n",
       "      <td>0.084281</td>\n",
       "      <td>...</td>\n",
       "      <td>0.013774</td>\n",
       "      <td>-0.057094</td>\n",
       "      <td>0.084471</td>\n",
       "      <td>0.075582</td>\n",
       "      <td>0.093687</td>\n",
       "      <td>0.091592</td>\n",
       "      <td>0.114817</td>\n",
       "      <td>0.157812</td>\n",
       "      <td>0</td>\n",
       "      <td>1</td>\n",
       "    </tr>\n",
       "    <tr>\n",
       "      <th>3</th>\n",
       "      <td>05ocQutkURd6</td>\n",
       "      <td>0.054913</td>\n",
       "      <td>0.160764</td>\n",
       "      <td>0.150480</td>\n",
       "      <td>0.113151</td>\n",
       "      <td>0.135581</td>\n",
       "      <td>0.118498</td>\n",
       "      <td>0.032319</td>\n",
       "      <td>-0.078683</td>\n",
       "      <td>-0.013995</td>\n",
       "      <td>...</td>\n",
       "      <td>-0.075685</td>\n",
       "      <td>-0.029209</td>\n",
       "      <td>0.087122</td>\n",
       "      <td>0.009254</td>\n",
       "      <td>0.114800</td>\n",
       "      <td>0.218728</td>\n",
       "      <td>0.090305</td>\n",
       "      <td>0.159943</td>\n",
       "      <td>0</td>\n",
       "      <td>1</td>\n",
       "    </tr>\n",
       "    <tr>\n",
       "      <th>4</th>\n",
       "      <td>06YUNBA9ZRLq</td>\n",
       "      <td>0.100683</td>\n",
       "      <td>0.103170</td>\n",
       "      <td>0.046506</td>\n",
       "      <td>0.127893</td>\n",
       "      <td>0.075231</td>\n",
       "      <td>0.019648</td>\n",
       "      <td>0.116546</td>\n",
       "      <td>0.035825</td>\n",
       "      <td>0.044905</td>\n",
       "      <td>...</td>\n",
       "      <td>-0.005693</td>\n",
       "      <td>-0.001515</td>\n",
       "      <td>0.166933</td>\n",
       "      <td>0.005170</td>\n",
       "      <td>0.005126</td>\n",
       "      <td>0.126259</td>\n",
       "      <td>-0.038223</td>\n",
       "      <td>0.181322</td>\n",
       "      <td>1</td>\n",
       "      <td>0</td>\n",
       "    </tr>\n",
       "  </tbody>\n",
       "</table>\n",
       "<p>5 rows × 19903 columns</p>\n",
       "</div>"
      ],
      "text/plain": [
       "  participant_id  0throw_1thcolumn  0throw_2thcolumn  0throw_3thcolumn  \\\n",
       "0   00aIpNTbG5uh          0.047912          0.147614          0.035215   \n",
       "1   00fV0OyyoLfw         -0.003560          0.131635          0.067454   \n",
       "2   04X1eiS79T4B         -0.076074          0.162668          0.050365   \n",
       "3   05ocQutkURd6          0.054913          0.160764          0.150480   \n",
       "4   06YUNBA9ZRLq          0.100683          0.103170          0.046506   \n",
       "\n",
       "   0throw_4thcolumn  0throw_5thcolumn  0throw_6thcolumn  0throw_7thcolumn  \\\n",
       "0          0.041143          0.070673          0.080293          0.063638   \n",
       "1          0.073367          0.013845          0.198074          0.038971   \n",
       "2          0.035320          0.055263          0.047298          0.155932   \n",
       "3          0.113151          0.135581          0.118498          0.032319   \n",
       "4          0.127893          0.075231          0.019648          0.116546   \n",
       "\n",
       "   0throw_8thcolumn  0throw_9thcolumn  ...  195throw_198thcolumn  \\\n",
       "0         -0.016682          0.043650  ...             -0.031380   \n",
       "1         -0.109366         -0.034447  ...              0.038632   \n",
       "2          0.012768          0.084281  ...              0.013774   \n",
       "3         -0.078683         -0.013995  ...             -0.075685   \n",
       "4          0.035825          0.044905  ...             -0.005693   \n",
       "\n",
       "   195throw_199thcolumn  196throw_197thcolumn  196throw_198thcolumn  \\\n",
       "0              0.032986              0.081980              0.093708   \n",
       "1             -0.042040              0.125651              0.127045   \n",
       "2             -0.057094              0.084471              0.075582   \n",
       "3             -0.029209              0.087122              0.009254   \n",
       "4             -0.001515              0.166933              0.005170   \n",
       "\n",
       "   196throw_199thcolumn  197throw_198thcolumn  197throw_199thcolumn  \\\n",
       "0              0.021903              0.029458             -0.016072   \n",
       "1              0.142448              0.051943              0.138729   \n",
       "2              0.093687              0.091592              0.114817   \n",
       "3              0.114800              0.218728              0.090305   \n",
       "4              0.005126              0.126259             -0.038223   \n",
       "\n",
       "   198throw_199thcolumn  ADHD_Outcome  Sex_F  \n",
       "0              0.169368             1      0  \n",
       "1              0.168951             1      0  \n",
       "2              0.157812             0      1  \n",
       "3              0.159943             0      1  \n",
       "4              0.181322             1      0  \n",
       "\n",
       "[5 rows x 19903 columns]"
      ]
     },
     "execution_count": 2,
     "metadata": {},
     "output_type": "execute_result"
    }
   ],
   "source": [
    "df = pd.read_csv('Cleaned_fMRI.csv')\n",
    "df.head()"
   ]
  },
  {
   "cell_type": "code",
   "execution_count": 3,
   "id": "9ba0348f",
   "metadata": {},
   "outputs": [
    {
     "data": {
      "text/plain": [
       "(1213, 19903)"
      ]
     },
     "execution_count": 3,
     "metadata": {},
     "output_type": "execute_result"
    }
   ],
   "source": [
    "df.shape"
   ]
  },
  {
   "cell_type": "markdown",
   "id": "a34b708b",
   "metadata": {},
   "source": [
    "<span style=\"font-family: Century Gothic; font-size:15px\">Checking the null values</span>"
   ]
  },
  {
   "cell_type": "code",
   "execution_count": 4,
   "id": "d74bae6f",
   "metadata": {},
   "outputs": [],
   "source": [
    "assert np.mean(df.isnull().sum()) == 0, \"Dataset contains null values!\""
   ]
  },
  {
   "cell_type": "markdown",
   "id": "311151eb",
   "metadata": {},
   "source": [
    "<span style=\"font-family: Century Gothic; font-size:25px\">Dataset Summary:</span>\n",
    "\n",
    "<span style=\"font-family: Century Gothic; font-size:15px\">`1213` samples with `19903` features. </span>\n",
    "\n",
    "<span style=\"font-family: Century Gothic; font-size:15px\"> No missing values, meaning the dataset is fully preprocessed. </span>\n",
    "\n",
    "<span style=\"font-family: Century Gothic; font-size:25px\"> Target Variables: </span>\n",
    "\n",
    "<span style=\"font-family: Century Gothic; font-size:15px\"> ADHD_Outcome `0 = No ADHD`, `1 = ADHD`</span>\n",
    "\n",
    "<span style=\"font-family: Century Gothic; font-size:15px\"> Sex_F `0 = Male`, `1 = Female`</span>"
   ]
  },
  {
   "cell_type": "code",
   "execution_count": 5,
   "id": "436bc0da",
   "metadata": {},
   "outputs": [],
   "source": [
    "df_model = df.copy()"
   ]
  },
  {
   "cell_type": "markdown",
   "id": "e421662d",
   "metadata": {},
   "source": [
    "# <span style=\"font-family: Century Gothic\"> fMRI Modelling </span>"
   ]
  },
  {
   "cell_type": "code",
   "execution_count": 6,
   "id": "52bf91e9",
   "metadata": {},
   "outputs": [],
   "source": [
    "# Drop participant ID, extract labels\n",
    "X = df_model.drop(columns=['participant_id', 'ADHD_Outcome', 'Sex_F']).values\n",
    "y_adhd = df_model['ADHD_Outcome'].values\n",
    "y_sex = df_model['Sex_F'].values"
   ]
  },
  {
   "cell_type": "code",
   "execution_count": 7,
   "id": "1987fb3a",
   "metadata": {},
   "outputs": [],
   "source": [
    "# Split into Train/Validation/Test (60/20/20)\n",
    "\n",
    "def stratified_split(X, y):\n",
    "    X_temp, X_test, y_temp, y_test = train_test_split(\n",
    "        X, \n",
    "        y, \n",
    "        test_size=0.2, \n",
    "        stratify=y, \n",
    "        random_state=42\n",
    "    )\n",
    "    \n",
    "    X_train, X_val, y_train, y_val = train_test_split(\n",
    "        X_temp, \n",
    "        y_temp, \n",
    "        test_size=0.25, \n",
    "        stratify=y_temp, \n",
    "        random_state=42\n",
    "    )\n",
    "    \n",
    "    return X_train, X_val, X_test, y_train, y_val, y_test"
   ]
  },
  {
   "cell_type": "code",
   "execution_count": 8,
   "id": "d529a6b6",
   "metadata": {},
   "outputs": [],
   "source": [
    "# Train/Test Split\n",
    "X_train_adhd, X_val_adhd, X_test_adhd, y_train_adhd, y_val_adhd, y_test_adhd = stratified_split(\n",
    "    X, \n",
    "    y_adhd\n",
    ")\n",
    "\n",
    "X_train_sex, X_val_sex, X_test_sex, y_train_sex, y_val_sex, y_test_sex = stratified_split(\n",
    "    X, \n",
    "    y_sex\n",
    ")"
   ]
  },
  {
   "cell_type": "code",
   "execution_count": 16,
   "id": "df441bf1",
   "metadata": {},
   "outputs": [],
   "source": [
    "def calculate_class_weight(y_train: pd.Series):\n",
    "    return dict(\n",
    "        enumerate(\n",
    "            compute_class_weight(\n",
    "                'balanced',\n",
    "                classes=np.unique(y_train),\n",
    "                y = y_train\n",
    "            )\n",
    "        )\n",
    "    )"
   ]
  },
  {
   "cell_type": "code",
   "execution_count": 18,
   "id": "b89f635f",
   "metadata": {},
   "outputs": [],
   "source": [
    "adhd_class_weight = calculate_class_weight(y_train_adhd)\n",
    "sex_class_weight = calculate_class_weight(y_train_sex)"
   ]
  },
  {
   "cell_type": "code",
   "execution_count": 19,
   "id": "af620213",
   "metadata": {},
   "outputs": [
    {
     "data": {
      "text/plain": [
       "({0: np.float64(1.5873362445414847), 1: np.float64(0.7299196787148594)},\n",
       " {0: np.float64(0.7620545073375262), 1: np.float64(1.454)})"
      ]
     },
     "execution_count": 19,
     "metadata": {},
     "output_type": "execute_result"
    }
   ],
   "source": [
    "adhd_class_weight, sex_class_weight"
   ]
  },
  {
   "cell_type": "markdown",
   "id": "cfe481ce",
   "metadata": {},
   "source": [
    "# <span style=\"font-family: Century Gothic; font-size:15px\"> Normalize Data </span>"
   ]
  },
  {
   "cell_type": "code",
   "execution_count": 9,
   "id": "52225f47",
   "metadata": {},
   "outputs": [],
   "source": [
    "scaler = StandardScaler()\n",
    "X_train_adhd_scaled = scaler.fit_transform(X_train_adhd)\n",
    "X_val_adhd_scaled = scaler.transform(X_val_adhd)\n",
    "X_test_adhd_scaled = scaler.transform(X_test_adhd)\n",
    "\n",
    "X_train_sex_scaled = scaler.fit_transform(X_train_sex)\n",
    "X_val_sex_scaled = scaler.fit_transform(X_val_sex)\n",
    "X_test_sex_scaled = scaler.transform(X_test_sex)"
   ]
  },
  {
   "cell_type": "markdown",
   "id": "0beb72f2",
   "metadata": {},
   "source": [
    "# <span style=\"font-family: Century Gothic; font-size:15px\"> Model Architecture </span>"
   ]
  },
  {
   "cell_type": "code",
   "execution_count": 14,
   "id": "3e8d1ab5",
   "metadata": {},
   "outputs": [],
   "source": [
    "# Define Dense Model Architecture\n",
    "def create_model(input_dim, lr=0.001, dropout_rate=0.3, metrics='accuracy'):\n",
    "    optimizer = tf.keras.optimizers.Adam(learning_rate=lr)\n",
    "    \n",
    "    model = tf.keras.models.Sequential([\n",
    "        tf.keras.layers.Input(shape=(input_dim,)),\n",
    "        tf.keras.layers.Dense(512, activation='relu'),\n",
    "        tf.keras.layers.Dropout(dropout_rate),\n",
    "        \n",
    "        tf.keras.layers.Dense(256, activation='relu'),\n",
    "        tf.keras.layers.Dropout(dropout_rate),\n",
    "        \n",
    "        tf.keras.layers.Dense(1, activation='sigmoid')\n",
    "    ])\n",
    "    \n",
    "    model.compile(\n",
    "        optimizer,\n",
    "        loss=tf.keras.losses.BinaryCrossentropy(),\n",
    "        metrics=[metrics]\n",
    "    )\n",
    "    \n",
    "    return model"
   ]
  },
  {
   "cell_type": "code",
   "execution_count": 11,
   "id": "b8fae97a",
   "metadata": {},
   "outputs": [],
   "source": [
    "# Checkpoint\n",
    "adhd_ckpt = 'adhd_best_model.keras'\n",
    "sex_ckpt = 'sex_best_model.keras'"
   ]
  },
  {
   "cell_type": "markdown",
   "id": "90286871",
   "metadata": {},
   "source": [
    "# <span style=\"font-family: Century Gothic;\"> ADHD Modelling </span>"
   ]
  },
  {
   "cell_type": "code",
   "execution_count": 12,
   "id": "9243a33f",
   "metadata": {},
   "outputs": [],
   "source": [
    "# Early Stopping\n",
    "callbacks = [\n",
    "    tf.keras.callbacks.EarlyStopping(\n",
    "        monitor='val_loss',\n",
    "        patience=1,\n",
    "        restore_best_weights=True\n",
    "    ),\n",
    "    \n",
    "    tf.keras.callbacks.ModelCheckpoint(\n",
    "        filepath=adhd_ckpt,\n",
    "        monitor='val_loss',\n",
    "        save_best_only=True\n",
    "    )\n",
    "]"
   ]
  },
  {
   "cell_type": "markdown",
   "id": "173008b5",
   "metadata": {},
   "source": [
    "<span style=\"font-family: Century Gothic; font-size:15px\"> Train ADHD Model </span>"
   ]
  },
  {
   "cell_type": "code",
   "execution_count": 28,
   "id": "126bf066",
   "metadata": {},
   "outputs": [
    {
     "data": {
      "text/html": [
       "<pre style=\"white-space:pre;overflow-x:auto;line-height:normal;font-family:Menlo,'DejaVu Sans Mono',consolas,'Courier New',monospace\"><span style=\"font-weight: bold\">Model: \"sequential_3\"</span>\n",
       "</pre>\n"
      ],
      "text/plain": [
       "\u001b[1mModel: \"sequential_3\"\u001b[0m\n"
      ]
     },
     "metadata": {},
     "output_type": "display_data"
    },
    {
     "data": {
      "text/html": [
       "<pre style=\"white-space:pre;overflow-x:auto;line-height:normal;font-family:Menlo,'DejaVu Sans Mono',consolas,'Courier New',monospace\">┏━━━━━━━━━━━━━━━━━━━━━━━━━━━━━━━━━┳━━━━━━━━━━━━━━━━━━━━━━━━┳━━━━━━━━━━━━━━━┓\n",
       "┃<span style=\"font-weight: bold\"> Layer (type)                    </span>┃<span style=\"font-weight: bold\"> Output Shape           </span>┃<span style=\"font-weight: bold\">       Param # </span>┃\n",
       "┡━━━━━━━━━━━━━━━━━━━━━━━━━━━━━━━━━╇━━━━━━━━━━━━━━━━━━━━━━━━╇━━━━━━━━━━━━━━━┩\n",
       "│ dense_9 (<span style=\"color: #0087ff; text-decoration-color: #0087ff\">Dense</span>)                 │ (<span style=\"color: #00d7ff; text-decoration-color: #00d7ff\">None</span>, <span style=\"color: #00af00; text-decoration-color: #00af00\">512</span>)            │    <span style=\"color: #00af00; text-decoration-color: #00af00\">10,189,312</span> │\n",
       "├─────────────────────────────────┼────────────────────────┼───────────────┤\n",
       "│ dropout_6 (<span style=\"color: #0087ff; text-decoration-color: #0087ff\">Dropout</span>)             │ (<span style=\"color: #00d7ff; text-decoration-color: #00d7ff\">None</span>, <span style=\"color: #00af00; text-decoration-color: #00af00\">512</span>)            │             <span style=\"color: #00af00; text-decoration-color: #00af00\">0</span> │\n",
       "├─────────────────────────────────┼────────────────────────┼───────────────┤\n",
       "│ dense_10 (<span style=\"color: #0087ff; text-decoration-color: #0087ff\">Dense</span>)                │ (<span style=\"color: #00d7ff; text-decoration-color: #00d7ff\">None</span>, <span style=\"color: #00af00; text-decoration-color: #00af00\">256</span>)            │       <span style=\"color: #00af00; text-decoration-color: #00af00\">131,328</span> │\n",
       "├─────────────────────────────────┼────────────────────────┼───────────────┤\n",
       "│ dropout_7 (<span style=\"color: #0087ff; text-decoration-color: #0087ff\">Dropout</span>)             │ (<span style=\"color: #00d7ff; text-decoration-color: #00d7ff\">None</span>, <span style=\"color: #00af00; text-decoration-color: #00af00\">256</span>)            │             <span style=\"color: #00af00; text-decoration-color: #00af00\">0</span> │\n",
       "├─────────────────────────────────┼────────────────────────┼───────────────┤\n",
       "│ dense_11 (<span style=\"color: #0087ff; text-decoration-color: #0087ff\">Dense</span>)                │ (<span style=\"color: #00d7ff; text-decoration-color: #00d7ff\">None</span>, <span style=\"color: #00af00; text-decoration-color: #00af00\">1</span>)              │           <span style=\"color: #00af00; text-decoration-color: #00af00\">257</span> │\n",
       "└─────────────────────────────────┴────────────────────────┴───────────────┘\n",
       "</pre>\n"
      ],
      "text/plain": [
       "┏━━━━━━━━━━━━━━━━━━━━━━━━━━━━━━━━━┳━━━━━━━━━━━━━━━━━━━━━━━━┳━━━━━━━━━━━━━━━┓\n",
       "┃\u001b[1m \u001b[0m\u001b[1mLayer (type)                   \u001b[0m\u001b[1m \u001b[0m┃\u001b[1m \u001b[0m\u001b[1mOutput Shape          \u001b[0m\u001b[1m \u001b[0m┃\u001b[1m \u001b[0m\u001b[1m      Param #\u001b[0m\u001b[1m \u001b[0m┃\n",
       "┡━━━━━━━━━━━━━━━━━━━━━━━━━━━━━━━━━╇━━━━━━━━━━━━━━━━━━━━━━━━╇━━━━━━━━━━━━━━━┩\n",
       "│ dense_9 (\u001b[38;5;33mDense\u001b[0m)                 │ (\u001b[38;5;45mNone\u001b[0m, \u001b[38;5;34m512\u001b[0m)            │    \u001b[38;5;34m10,189,312\u001b[0m │\n",
       "├─────────────────────────────────┼────────────────────────┼───────────────┤\n",
       "│ dropout_6 (\u001b[38;5;33mDropout\u001b[0m)             │ (\u001b[38;5;45mNone\u001b[0m, \u001b[38;5;34m512\u001b[0m)            │             \u001b[38;5;34m0\u001b[0m │\n",
       "├─────────────────────────────────┼────────────────────────┼───────────────┤\n",
       "│ dense_10 (\u001b[38;5;33mDense\u001b[0m)                │ (\u001b[38;5;45mNone\u001b[0m, \u001b[38;5;34m256\u001b[0m)            │       \u001b[38;5;34m131,328\u001b[0m │\n",
       "├─────────────────────────────────┼────────────────────────┼───────────────┤\n",
       "│ dropout_7 (\u001b[38;5;33mDropout\u001b[0m)             │ (\u001b[38;5;45mNone\u001b[0m, \u001b[38;5;34m256\u001b[0m)            │             \u001b[38;5;34m0\u001b[0m │\n",
       "├─────────────────────────────────┼────────────────────────┼───────────────┤\n",
       "│ dense_11 (\u001b[38;5;33mDense\u001b[0m)                │ (\u001b[38;5;45mNone\u001b[0m, \u001b[38;5;34m1\u001b[0m)              │           \u001b[38;5;34m257\u001b[0m │\n",
       "└─────────────────────────────────┴────────────────────────┴───────────────┘\n"
      ]
     },
     "metadata": {},
     "output_type": "display_data"
    },
    {
     "data": {
      "text/html": [
       "<pre style=\"white-space:pre;overflow-x:auto;line-height:normal;font-family:Menlo,'DejaVu Sans Mono',consolas,'Courier New',monospace\"><span style=\"font-weight: bold\"> Total params: </span><span style=\"color: #00af00; text-decoration-color: #00af00\">10,320,897</span> (39.37 MB)\n",
       "</pre>\n"
      ],
      "text/plain": [
       "\u001b[1m Total params: \u001b[0m\u001b[38;5;34m10,320,897\u001b[0m (39.37 MB)\n"
      ]
     },
     "metadata": {},
     "output_type": "display_data"
    },
    {
     "data": {
      "text/html": [
       "<pre style=\"white-space:pre;overflow-x:auto;line-height:normal;font-family:Menlo,'DejaVu Sans Mono',consolas,'Courier New',monospace\"><span style=\"font-weight: bold\"> Trainable params: </span><span style=\"color: #00af00; text-decoration-color: #00af00\">10,320,897</span> (39.37 MB)\n",
       "</pre>\n"
      ],
      "text/plain": [
       "\u001b[1m Trainable params: \u001b[0m\u001b[38;5;34m10,320,897\u001b[0m (39.37 MB)\n"
      ]
     },
     "metadata": {},
     "output_type": "display_data"
    },
    {
     "data": {
      "text/html": [
       "<pre style=\"white-space:pre;overflow-x:auto;line-height:normal;font-family:Menlo,'DejaVu Sans Mono',consolas,'Courier New',monospace\"><span style=\"font-weight: bold\"> Non-trainable params: </span><span style=\"color: #00af00; text-decoration-color: #00af00\">0</span> (0.00 B)\n",
       "</pre>\n"
      ],
      "text/plain": [
       "\u001b[1m Non-trainable params: \u001b[0m\u001b[38;5;34m0\u001b[0m (0.00 B)\n"
      ]
     },
     "metadata": {},
     "output_type": "display_data"
    }
   ],
   "source": [
    "# Train CNN for ADHD Classification\n",
    "adhd_model = create_model(X_train_adhd_scaled.shape[1], metrics=tf.keras.metrics.AUC(name='roc_auc'))\n",
    "\n",
    "adhd_model.build()\n",
    "adhd_model.summary()"
   ]
  },
  {
   "cell_type": "code",
   "execution_count": 29,
   "id": "8b574777",
   "metadata": {},
   "outputs": [
    {
     "name": "stdout",
     "output_type": "stream",
     "text": [
      "Epoch 1/50\n",
      "\u001b[1m23/23\u001b[0m \u001b[32m━━━━━━━━━━━━━━━━━━━━\u001b[0m\u001b[37m\u001b[0m \u001b[1m3s\u001b[0m 90ms/step - loss: 1.0144 - roc_auc: 0.5406 - val_loss: 0.8236 - val_roc_auc: 0.5230\n",
      "Epoch 2/50\n",
      "\u001b[1m23/23\u001b[0m \u001b[32m━━━━━━━━━━━━━━━━━━━━\u001b[0m\u001b[37m\u001b[0m \u001b[1m2s\u001b[0m 74ms/step - loss: 0.0820 - roc_auc: 0.9967 - val_loss: 0.9765 - val_roc_auc: 0.5336\n"
     ]
    }
   ],
   "source": [
    "history_adhd = adhd_model.fit(\n",
    "    X_train_adhd_scaled, \n",
    "    y_train_adhd, \n",
    "    epochs=50, \n",
    "    batch_size=32, \n",
    "    validation_data=(X_val_adhd_scaled, y_val_adhd),\n",
    "    callbacks=callbacks,\n",
    "    verbose=1,\n",
    "    class_weight=adhd_class_weight\n",
    ")"
   ]
  },
  {
   "cell_type": "markdown",
   "id": "f400c6d0",
   "metadata": {},
   "source": [
    "<span style=\"font-family: Century Gothic; font-size:15px\"> Plot Accuracy Curve </span>"
   ]
  },
  {
   "cell_type": "code",
   "execution_count": 30,
   "id": "f2e367d3",
   "metadata": {},
   "outputs": [
    {
     "data": {
      "image/png": "[encoded data removed]",
      "text/plain": [
       "<Figure size 640x480 with 1 Axes>"
      ]
     },
     "metadata": {},
     "output_type": "display_data"
    }
   ],
   "source": [
    "plt.plot(history_adhd.history['roc_auc'], label='train_roc')\n",
    "plt.plot(history_adhd.history['val_roc_auc'], label = 'val_roc_auc')\n",
    "plt.xlabel('Epoch')\n",
    "plt.ylabel('ROC')\n",
    "plt.title('ADHD ROC Over Epochs')\n",
    "plt.legend()\n",
    "plt.show()"
   ]
  },
  {
   "cell_type": "code",
   "execution_count": 31,
   "id": "e43b8fcd",
   "metadata": {},
   "outputs": [
    {
     "name": "stdout",
     "output_type": "stream",
     "text": [
      "\u001b[1m8/8\u001b[0m \u001b[32m━━━━━━━━━━━━━━━━━━━━\u001b[0m\u001b[37m\u001b[0m \u001b[1m0s\u001b[0m 12ms/step\n",
      "🔹 ADHD ROC AUC Score: 0.5540603974338913\n"
     ]
    }
   ],
   "source": [
    "print(\"🔹 ADHD ROC AUC Score:\", \n",
    "    roc_auc_score(\n",
    "        y_test_adhd, \n",
    "        adhd_model.predict(X_test_adhd_scaled)\n",
    "    )\n",
    ")"
   ]
  },
  {
   "cell_type": "markdown",
   "id": "4dffbd69",
   "metadata": {},
   "source": [
    "# <span style=\"font-family: Century Gothic;\"> Sex Modelling </span>"
   ]
  },
  {
   "cell_type": "code",
   "execution_count": 18,
   "id": "de1e13d1",
   "metadata": {},
   "outputs": [],
   "source": [
    "callbacks[1] = [\n",
    "    tf.keras.callbacks.ModelCheckpoint(\n",
    "        filepath=sex_ckpt,\n",
    "        monitor='val_loss',\n",
    "        save_best_only=True\n",
    "    )\n",
    "]"
   ]
  },
  {
   "cell_type": "code",
   "execution_count": 35,
   "id": "01bfe87b",
   "metadata": {},
   "outputs": [
    {
     "data": {
      "text/html": [
       "<pre style=\"white-space:pre;overflow-x:auto;line-height:normal;font-family:Menlo,'DejaVu Sans Mono',consolas,'Courier New',monospace\"><span style=\"font-weight: bold\">Model: \"sequential_5\"</span>\n",
       "</pre>\n"
      ],
      "text/plain": [
       "\u001b[1mModel: \"sequential_5\"\u001b[0m\n"
      ]
     },
     "metadata": {},
     "output_type": "display_data"
    },
    {
     "data": {
      "text/html": [
       "<pre style=\"white-space:pre;overflow-x:auto;line-height:normal;font-family:Menlo,'DejaVu Sans Mono',consolas,'Courier New',monospace\">┏━━━━━━━━━━━━━━━━━━━━━━━━━━━━━━━━━┳━━━━━━━━━━━━━━━━━━━━━━━━┳━━━━━━━━━━━━━━━┓\n",
       "┃<span style=\"font-weight: bold\"> Layer (type)                    </span>┃<span style=\"font-weight: bold\"> Output Shape           </span>┃<span style=\"font-weight: bold\">       Param # </span>┃\n",
       "┡━━━━━━━━━━━━━━━━━━━━━━━━━━━━━━━━━╇━━━━━━━━━━━━━━━━━━━━━━━━╇━━━━━━━━━━━━━━━┩\n",
       "│ dense_15 (<span style=\"color: #0087ff; text-decoration-color: #0087ff\">Dense</span>)                │ (<span style=\"color: #00d7ff; text-decoration-color: #00d7ff\">None</span>, <span style=\"color: #00af00; text-decoration-color: #00af00\">512</span>)            │    <span style=\"color: #00af00; text-decoration-color: #00af00\">10,189,312</span> │\n",
       "├─────────────────────────────────┼────────────────────────┼───────────────┤\n",
       "│ dropout_10 (<span style=\"color: #0087ff; text-decoration-color: #0087ff\">Dropout</span>)            │ (<span style=\"color: #00d7ff; text-decoration-color: #00d7ff\">None</span>, <span style=\"color: #00af00; text-decoration-color: #00af00\">512</span>)            │             <span style=\"color: #00af00; text-decoration-color: #00af00\">0</span> │\n",
       "├─────────────────────────────────┼────────────────────────┼───────────────┤\n",
       "│ dense_16 (<span style=\"color: #0087ff; text-decoration-color: #0087ff\">Dense</span>)                │ (<span style=\"color: #00d7ff; text-decoration-color: #00d7ff\">None</span>, <span style=\"color: #00af00; text-decoration-color: #00af00\">256</span>)            │       <span style=\"color: #00af00; text-decoration-color: #00af00\">131,328</span> │\n",
       "├─────────────────────────────────┼────────────────────────┼───────────────┤\n",
       "│ dropout_11 (<span style=\"color: #0087ff; text-decoration-color: #0087ff\">Dropout</span>)            │ (<span style=\"color: #00d7ff; text-decoration-color: #00d7ff\">None</span>, <span style=\"color: #00af00; text-decoration-color: #00af00\">256</span>)            │             <span style=\"color: #00af00; text-decoration-color: #00af00\">0</span> │\n",
       "├─────────────────────────────────┼────────────────────────┼───────────────┤\n",
       "│ dense_17 (<span style=\"color: #0087ff; text-decoration-color: #0087ff\">Dense</span>)                │ (<span style=\"color: #00d7ff; text-decoration-color: #00d7ff\">None</span>, <span style=\"color: #00af00; text-decoration-color: #00af00\">1</span>)              │           <span style=\"color: #00af00; text-decoration-color: #00af00\">257</span> │\n",
       "└─────────────────────────────────┴────────────────────────┴───────────────┘\n",
       "</pre>\n"
      ],
      "text/plain": [
       "┏━━━━━━━━━━━━━━━━━━━━━━━━━━━━━━━━━┳━━━━━━━━━━━━━━━━━━━━━━━━┳━━━━━━━━━━━━━━━┓\n",
       "┃\u001b[1m \u001b[0m\u001b[1mLayer (type)                   \u001b[0m\u001b[1m \u001b[0m┃\u001b[1m \u001b[0m\u001b[1mOutput Shape          \u001b[0m\u001b[1m \u001b[0m┃\u001b[1m \u001b[0m\u001b[1m      Param #\u001b[0m\u001b[1m \u001b[0m┃\n",
       "┡━━━━━━━━━━━━━━━━━━━━━━━━━━━━━━━━━╇━━━━━━━━━━━━━━━━━━━━━━━━╇━━━━━━━━━━━━━━━┩\n",
       "│ dense_15 (\u001b[38;5;33mDense\u001b[0m)                │ (\u001b[38;5;45mNone\u001b[0m, \u001b[38;5;34m512\u001b[0m)            │    \u001b[38;5;34m10,189,312\u001b[0m │\n",
       "├─────────────────────────────────┼────────────────────────┼───────────────┤\n",
       "│ dropout_10 (\u001b[38;5;33mDropout\u001b[0m)            │ (\u001b[38;5;45mNone\u001b[0m, \u001b[38;5;34m512\u001b[0m)            │             \u001b[38;5;34m0\u001b[0m │\n",
       "├─────────────────────────────────┼────────────────────────┼───────────────┤\n",
       "│ dense_16 (\u001b[38;5;33mDense\u001b[0m)                │ (\u001b[38;5;45mNone\u001b[0m, \u001b[38;5;34m256\u001b[0m)            │       \u001b[38;5;34m131,328\u001b[0m │\n",
       "├─────────────────────────────────┼────────────────────────┼───────────────┤\n",
       "│ dropout_11 (\u001b[38;5;33mDropout\u001b[0m)            │ (\u001b[38;5;45mNone\u001b[0m, \u001b[38;5;34m256\u001b[0m)            │             \u001b[38;5;34m0\u001b[0m │\n",
       "├─────────────────────────────────┼────────────────────────┼───────────────┤\n",
       "│ dense_17 (\u001b[38;5;33mDense\u001b[0m)                │ (\u001b[38;5;45mNone\u001b[0m, \u001b[38;5;34m1\u001b[0m)              │           \u001b[38;5;34m257\u001b[0m │\n",
       "└─────────────────────────────────┴────────────────────────┴───────────────┘\n"
      ]
     },
     "metadata": {},
     "output_type": "display_data"
    },
    {
     "data": {
      "text/html": [
       "<pre style=\"white-space:pre;overflow-x:auto;line-height:normal;font-family:Menlo,'DejaVu Sans Mono',consolas,'Courier New',monospace\"><span style=\"font-weight: bold\"> Total params: </span><span style=\"color: #00af00; text-decoration-color: #00af00\">10,320,897</span> (39.37 MB)\n",
       "</pre>\n"
      ],
      "text/plain": [
       "\u001b[1m Total params: \u001b[0m\u001b[38;5;34m10,320,897\u001b[0m (39.37 MB)\n"
      ]
     },
     "metadata": {},
     "output_type": "display_data"
    },
    {
     "data": {
      "text/html": [
       "<pre style=\"white-space:pre;overflow-x:auto;line-height:normal;font-family:Menlo,'DejaVu Sans Mono',consolas,'Courier New',monospace\"><span style=\"font-weight: bold\"> Trainable params: </span><span style=\"color: #00af00; text-decoration-color: #00af00\">10,320,897</span> (39.37 MB)\n",
       "</pre>\n"
      ],
      "text/plain": [
       "\u001b[1m Trainable params: \u001b[0m\u001b[38;5;34m10,320,897\u001b[0m (39.37 MB)\n"
      ]
     },
     "metadata": {},
     "output_type": "display_data"
    },
    {
     "data": {
      "text/html": [
       "<pre style=\"white-space:pre;overflow-x:auto;line-height:normal;font-family:Menlo,'DejaVu Sans Mono',consolas,'Courier New',monospace\"><span style=\"font-weight: bold\"> Non-trainable params: </span><span style=\"color: #00af00; text-decoration-color: #00af00\">0</span> (0.00 B)\n",
       "</pre>\n"
      ],
      "text/plain": [
       "\u001b[1m Non-trainable params: \u001b[0m\u001b[38;5;34m0\u001b[0m (0.00 B)\n"
      ]
     },
     "metadata": {},
     "output_type": "display_data"
    }
   ],
   "source": [
    "# Train CNN for Sex Classification\n",
    "sex_model = create_model(X_train_sex_scaled.shape[1])\n",
    "\n",
    "sex_model.build()\n",
    "sex_model.summary()"
   ]
  },
  {
   "cell_type": "markdown",
   "id": "3850346b",
   "metadata": {},
   "source": [
    "<span style=\"font-family: Century Gothic; font-size:15px\"> Train Sex Model </span>"
   ]
  },
  {
   "cell_type": "code",
   "execution_count": 39,
   "id": "78fa38c3",
   "metadata": {},
   "outputs": [
    {
     "name": "stdout",
     "output_type": "stream",
     "text": [
      "Epoch 1/50\n",
      "\u001b[1m23/23\u001b[0m \u001b[32m━━━━━━━━━━━━━━━━━━━━\u001b[0m\u001b[37m\u001b[0m \u001b[1m2s\u001b[0m 79ms/step - accuracy: 0.9914 - loss: 0.0374 - val_accuracy: 0.5514 - val_loss: 3.6199\n",
      "Epoch 2/50\n",
      "\u001b[1m23/23\u001b[0m \u001b[32m━━━━━━━━━━━━━━━━━━━━\u001b[0m\u001b[37m\u001b[0m \u001b[1m2s\u001b[0m 74ms/step - accuracy: 1.0000 - loss: 0.0040 - val_accuracy: 0.5514 - val_loss: 3.9679\n"
     ]
    }
   ],
   "source": [
    "history_sex = sex_model.fit(\n",
    "    X_train_sex_scaled, \n",
    "    y_train_sex, \n",
    "    epochs=50, \n",
    "    batch_size=32, \n",
    "    validation_data=(X_val_adhd_scaled, y_val_sex),\n",
    "    callbacks=callbacks,\n",
    "    verbose=1,\n",
    "    class_weight=sex_class_weight\n",
    ")"
   ]
  },
  {
   "cell_type": "markdown",
   "id": "6c193cf4",
   "metadata": {},
   "source": [
    "<span style=\"font-family: Century Gothic; font-size:15px\"> Plot Accuracy Curve </span>"
   ]
  },
  {
   "cell_type": "code",
   "execution_count": 40,
   "id": "18d45624",
   "metadata": {},
   "outputs": [
    {
     "data": {
      "image/png": "[encoded data removed]",
      "text/plain": [
       "<Figure size 640x480 with 1 Axes>"
      ]
     },
     "metadata": {},
     "output_type": "display_data"
    }
   ],
   "source": [
    "plt.plot(history_sex.history['accuracy'], label='train_accuracy')\n",
    "plt.plot(history_sex.history['val_accuracy'], label = 'val_accuracy')\n",
    "plt.xlabel('Epoch')\n",
    "plt.ylabel('Accuracy')\n",
    "plt.legend()\n",
    "plt.title('Sex Training Accuracy')\n",
    "plt.show()"
   ]
  },
  {
   "cell_type": "code",
   "execution_count": 41,
   "id": "bd61dff6",
   "metadata": {},
   "outputs": [
    {
     "name": "stdout",
     "output_type": "stream",
     "text": [
      "\u001b[1m8/8\u001b[0m \u001b[32m━━━━━━━━━━━━━━━━━━━━\u001b[0m\u001b[37m\u001b[0m \u001b[1m0s\u001b[0m 8ms/step \n",
      "🔹 Sex ROC AUC Score: 0.7295180722891565\n"
     ]
    }
   ],
   "source": [
    "print(\"🔹 Sex ROC AUC Score:\", \n",
    "    roc_auc_score(\n",
    "        y_test_sex, \n",
    "        sex_model.predict(X_test_sex_scaled)\n",
    "    )\n",
    ")"
   ]
  },
  {
   "cell_type": "markdown",
   "id": "5b082eb4",
   "metadata": {},
   "source": [
    "# <span style=\"font-family: Century Gothic\"> Hyperparameter Tuning for RandomForest"
   ]
  },
  {
   "cell_type": "code",
   "execution_count": 43,
   "id": "5dddb7af",
   "metadata": {},
   "outputs": [
    {
     "name": "stdout",
     "output_type": "stream",
     "text": [
      "\n",
      "🔍 Hyperparameter Tuning - Random Forest (ADHD)...\n",
      "Fitting 5 folds for each of 12 candidates, totalling 60 fits\n",
      "-----------------------------------------\n",
      "Best Params: {'max_depth': 20, 'min_samples_split': 2, 'n_estimators': 150}\n",
      "-----------------------------------------\n",
      "              precision    recall  f1-score   support\n",
      "\n",
      "           0       0.50      0.03      0.05        76\n",
      "           1       0.69      0.99      0.81       167\n",
      "\n",
      "    accuracy                           0.69       243\n",
      "   macro avg       0.60      0.51      0.43       243\n",
      "weighted avg       0.63      0.69      0.57       243\n",
      "\n",
      "-----------------------------------------\n",
      "ROC AUC Score: 0.5840\n",
      "-----------------------------------------\n"
     ]
    },
    {
     "data": {
      "text/plain": [
       "['adhd_rf_model.pkl']"
      ]
     },
     "execution_count": 43,
     "metadata": {},
     "output_type": "execute_result"
    }
   ],
   "source": [
    "print(\"\\n🔍 Hyperparameter Tuning - Random Forest (ADHD)...\")\n",
    "rfc = RandomForestClassifier(random_state=42)\n",
    "param_grid = {\n",
    "    'n_estimators': [100, 150],\n",
    "    'max_depth': [None, 10, 20],\n",
    "    'min_samples_split': [2, 5],\n",
    "}\n",
    "rf_grid = GridSearchCV(\n",
    "    rfc, \n",
    "    param_grid, \n",
    "    cv=5, \n",
    "    scoring='f1', \n",
    "    verbose=1\n",
    ")\n",
    "\n",
    "rf_grid.fit(X_train_adhd_scaled, y_train_adhd)\n",
    "rf_best = rf_grid.best_estimator_\n",
    "\n",
    "y_pred = rf_best.predict(X_val_adhd_scaled)\n",
    "y_proba = rf_best.predict_proba(X_val_adhd_scaled)[:, 1]\n",
    "\n",
    "print('-----------------------------------------')\n",
    "print(f'Best Params: {rf_grid.best_params_}')\n",
    "print('-----------------------------------------')\n",
    "print(classification_report(y_val_adhd, y_pred))\n",
    "print('-----------------------------------------')\n",
    "print(f'ROC AUC Score: {roc_auc_score(y_val_adhd, y_proba):.4f}')\n",
    "print('-----------------------------------------')\n",
    "\n",
    "joblib.dump(rf_best, \"adhd_rf_model.pkl\")"
   ]
  },
  {
   "cell_type": "markdown",
   "id": "567362bf",
   "metadata": {},
   "source": [
    "# <span style=\"font-family: Century Gothic\"> Hyperparameter Tuning for MLP"
   ]
  },
  {
   "cell_type": "code",
   "execution_count": 44,
   "id": "fe2f6a38",
   "metadata": {},
   "outputs": [
    {
     "name": "stdout",
     "output_type": "stream",
     "text": [
      "\n",
      "🔍 Hyperparameter Tuning - MLP (Sex)...\n",
      "Fitting 3 folds for each of 8 candidates, totalling 24 fits\n",
      "-----------------------------------------\n",
      "Best Params: {'activation': 'relu', 'alpha': 0.0001, 'hidden_layer_sizes': (50, 50)}\n",
      "-----------------------------------------\n",
      "              precision    recall  f1-score   support\n",
      "\n",
      "           0       0.72      0.79      0.76       160\n",
      "           1       0.51      0.41      0.45        83\n",
      "\n",
      "    accuracy                           0.66       243\n",
      "   macro avg       0.61      0.60      0.60       243\n",
      "weighted avg       0.65      0.66      0.65       243\n",
      "\n",
      "-----------------------------------------\n",
      "ROC AUC Score: 0.6870\n",
      "-----------------------------------------\n"
     ]
    },
    {
     "data": {
      "text/plain": [
       "['sex_mlp_model.pkl']"
      ]
     },
     "execution_count": 44,
     "metadata": {},
     "output_type": "execute_result"
    }
   ],
   "source": [
    "print(\"\\n🔍 Hyperparameter Tuning - MLP (Sex)...\")\n",
    "\n",
    "mlp = MLPClassifier(max_iter=300)\n",
    "mlp_params = {\n",
    "    'hidden_layer_sizes': [(100,), (50, 50)],\n",
    "    'activation': ['relu', 'tanh'],\n",
    "    'alpha': [0.0001, 0.001]\n",
    "}\n",
    "\n",
    "mlp_grid = GridSearchCV(\n",
    "    mlp, \n",
    "    mlp_params, \n",
    "    cv=3, \n",
    "    scoring='accuracy', \n",
    "    verbose=1\n",
    ")\n",
    "\n",
    "mlp_grid.fit(X_train_sex_scaled, y_train_sex)\n",
    "mlp_best = mlp_grid.best_estimator_\n",
    "\n",
    "y_pred = mlp_best.predict(X_val_sex_scaled)\n",
    "y_proba = mlp_best.predict_proba(X_val_sex_scaled)[:, 1]\n",
    "\n",
    "print('-----------------------------------------')\n",
    "print(f'Best Params: {mlp_grid.best_params_}')\n",
    "print('-----------------------------------------')\n",
    "print(classification_report(y_val_sex, y_pred))\n",
    "print('-----------------------------------------')\n",
    "print(f'ROC AUC Score: {roc_auc_score(y_val_sex, y_proba):.4f}')\n",
    "print('-----------------------------------------')\n",
    "\n",
    "joblib.dump(mlp_best, \"sex_mlp_model.pkl\")"
   ]
  },
  {
   "cell_type": "markdown",
   "id": "6f13d3d8",
   "metadata": {},
   "source": [
    "# <span style=\"font-family: Century Gothic\"> Model Comparison"
   ]
  },
  {
   "cell_type": "code",
   "execution_count": 45,
   "id": "5f94f34f",
   "metadata": {},
   "outputs": [],
   "source": [
    "def calc_cross_val_score(model, x_train, y_train, cv, scoring='accuracy'):\n",
    "    rf_scores = cross_val_score(\n",
    "        model, \n",
    "        x_train, \n",
    "        y_train, \n",
    "        cv=cv, \n",
    "        scoring=scoring\n",
    "    )\n",
    "    \n",
    "    return np.mean(rf_scores)"
   ]
  },
  {
   "cell_type": "code",
   "execution_count": 59,
   "id": "06b031c0",
   "metadata": {},
   "outputs": [],
   "source": [
    "def evaluate_final_model(name, model, X_test, y_test, is_keras=False):\n",
    "    print(f\"\\n📊 Final Evaluation: {name}\")\n",
    "    if is_keras:\n",
    "        y_pred = (model.predict(X_test) > 0.6).astype(int)\n",
    "        y_proba = model.predict(X_test)\n",
    "    else:\n",
    "        y_pred = model.predict(X_test)\n",
    "        y_proba = model.predict_proba(X_test)[:, 1]\n",
    "        \n",
    "    print(\n",
    "        \"\\n🔹 Classification Report:\\n\", \n",
    "        classification_report(y_test, y_pred)\n",
    "    )\n",
    "    print(\n",
    "        \"🔹 ROC AUC Score:\", \n",
    "        roc_auc_score(\n",
    "            y_test, \n",
    "            y_proba\n",
    "        )\n",
    "    )"
   ]
  },
  {
   "cell_type": "code",
   "execution_count": null,
   "id": "86ea9321",
   "metadata": {},
   "outputs": [
    {
     "name": "stdout",
     "output_type": "stream",
     "text": [
      "\u001b[1m8/8\u001b[0m \u001b[32m━━━━━━━━━━━━━━━━━━━━\u001b[0m\u001b[37m\u001b[0m \u001b[1m0s\u001b[0m 9ms/step \n"
     ]
    }
   ],
   "source": [
    "# ADHD Model Selection by Cross-Validation\n",
    "cv = 5\n",
    "\n",
    "rf_adhd_val = calc_cross_val_score(\n",
    "    rf_best,\n",
    "    X_train_adhd_scaled, \n",
    "    y_train_adhd, \n",
    "    cv,\n",
    "    scoring='f1'\n",
    ")\n",
    "\n",
    "y_pred_adhd = (adhd_model.predict(X_test_adhd) > 0.6).astype(int)\n",
    "\n",
    "deep_adhd_score =  f1_score(\n",
    "    y_test_adhd, \n",
    "    y_pred_adhd\n",
    ")"
   ]
  },
  {
   "cell_type": "code",
   "execution_count": 77,
   "id": "396c7d64",
   "metadata": {},
   "outputs": [],
   "source": [
    "adhd_models = [\n",
    "    (\"Random Forest\", rf_best, rf_adhd_val),\n",
    "    (\"Deep Adhd Model\", adhd_model, deep_adhd_score)\n",
    "]"
   ]
  },
  {
   "cell_type": "code",
   "execution_count": 78,
   "id": "202b2f6a",
   "metadata": {},
   "outputs": [
    {
     "name": "stdout",
     "output_type": "stream",
     "text": [
      "✅ Best ADHD Model: Random Forest with score 0.8156\n"
     ]
    }
   ],
   "source": [
    "best_name, adhd_final_model, best_score = max(adhd_models, key=lambda x: x[2])\n",
    "print(f\"✅ Best ADHD Model: {best_name} with score {best_score:.4f}\")"
   ]
  },
  {
   "cell_type": "code",
   "execution_count": 79,
   "id": "c7664ab7",
   "metadata": {},
   "outputs": [
    {
     "name": "stdout",
     "output_type": "stream",
     "text": [
      "\n",
      "📊 Final Evaluation: Random Forest\n",
      "\n",
      "🔹 Classification Report:\n",
      "               precision    recall  f1-score   support\n",
      "\n",
      "           0       0.50      0.04      0.07        77\n",
      "           1       0.69      0.98      0.81       166\n",
      "\n",
      "    accuracy                           0.68       243\n",
      "   macro avg       0.59      0.51      0.44       243\n",
      "weighted avg       0.63      0.68      0.58       243\n",
      "\n",
      "🔹 ROC AUC Score: 0.5790956031919887\n"
     ]
    }
   ],
   "source": [
    "evaluate_final_model(\n",
    "    best_name, \n",
    "    adhd_final_model, \n",
    "    X_test_adhd_scaled,\n",
    "    y_test_adhd,\n",
    "    is_keras=(\"Deep\" in best_name)\n",
    ")"
   ]
  },
  {
   "cell_type": "code",
   "execution_count": 51,
   "id": "0d7985a3",
   "metadata": {},
   "outputs": [
    {
     "name": "stdout",
     "output_type": "stream",
     "text": [
      "\u001b[1m8/8\u001b[0m \u001b[32m━━━━━━━━━━━━━━━━━━━━\u001b[0m\u001b[37m\u001b[0m \u001b[1m0s\u001b[0m 8ms/step \n"
     ]
    }
   ],
   "source": [
    "# Sex Model Selection by Cross-Validation\n",
    "\n",
    "mlp_sex_val = calc_cross_val_score(\n",
    "    mlp_best,\n",
    "    X_train_sex_scaled, \n",
    "    y_train_sex, \n",
    "    cv,\n",
    "    scoring='accuracy'\n",
    ")\n",
    "\n",
    "y_sex_adhd = (sex_model.predict(X_test_sex) > 0.6).astype(int)\n",
    "\n",
    "deep_sex_score =  accuracy_score(\n",
    "    y_test_adhd, \n",
    "    y_pred_adhd\n",
    ")"
   ]
  },
  {
   "cell_type": "code",
   "execution_count": 80,
   "id": "2f996693",
   "metadata": {},
   "outputs": [],
   "source": [
    "sex_models = [\n",
    "    (\"MLP Model\", mlp_best, mlp_sex_val),\n",
    "    (\"Deep Sex Model\", sex_model, deep_sex_score)\n",
    "]"
   ]
  },
  {
   "cell_type": "code",
   "execution_count": 81,
   "id": "470051c9",
   "metadata": {},
   "outputs": [
    {
     "name": "stdout",
     "output_type": "stream",
     "text": [
      "✅ Best Sex Model: MLP Model with score 0.6919\n"
     ]
    }
   ],
   "source": [
    "best_name_, sex_final_model, best_score_ = max(sex_models, key=lambda x: x[2])\n",
    "print(f\"✅ Best Sex Model: {best_name_} with score {best_score_:.4f}\")"
   ]
  },
  {
   "cell_type": "code",
   "execution_count": 82,
   "id": "cc342384",
   "metadata": {},
   "outputs": [
    {
     "name": "stdout",
     "output_type": "stream",
     "text": [
      "\n",
      "📊 Final Evaluation: MLP Model\n",
      "\n",
      "🔹 Classification Report:\n",
      "               precision    recall  f1-score   support\n",
      "\n",
      "           0       0.73      0.88      0.80       160\n",
      "           1       0.63      0.39      0.48        83\n",
      "\n",
      "    accuracy                           0.71       243\n",
      "   macro avg       0.68      0.63      0.64       243\n",
      "weighted avg       0.70      0.71      0.69       243\n",
      "\n",
      "🔹 ROC AUC Score: 0.7179969879518072\n"
     ]
    }
   ],
   "source": [
    "evaluate_final_model(\n",
    "    best_name_, \n",
    "    sex_final_model, \n",
    "    X_test_sex_scaled,\n",
    "    y_test_sex,\n",
    "    is_keras=(\"Deep\" in best_name)\n",
    ")"
   ]
  },
  {
   "cell_type": "code",
   "execution_count": 96,
   "id": "6816431c",
   "metadata": {},
   "outputs": [],
   "source": [
    "models = {\n",
    "    \"DEEP_ADHD\": (adhd_model, X_test_adhd_scaled, y_test_adhd),\n",
    "    \"RF_ADHD\": (rf_best, X_test_adhd_scaled, y_test_adhd),\n",
    "    \"DEEP_SEX\": (sex_model, X_test_sex_scaled, y_test_sex),\n",
    "    \"MLP_SEX\": (mlp_best, X_test_sex_scaled, y_test_sex)\n",
    "}"
   ]
  },
  {
   "cell_type": "code",
   "execution_count": 100,
   "id": "d37e4d23",
   "metadata": {},
   "outputs": [
    {
     "name": "stdout",
     "output_type": "stream",
     "text": [
      "\u001b[1m8/8\u001b[0m \u001b[32m━━━━━━━━━━━━━━━━━━━━\u001b[0m\u001b[37m\u001b[0m \u001b[1m0s\u001b[0m 10ms/step\n",
      "\u001b[1m8/8\u001b[0m \u001b[32m━━━━━━━━━━━━━━━━━━━━\u001b[0m\u001b[37m\u001b[0m \u001b[1m0s\u001b[0m 8ms/step \n"
     ]
    }
   ],
   "source": [
    "results = []\n",
    "for name, (model, X_test, y_true) in models.items():\n",
    "    if 'DEEP' in name:\n",
    "        y_pred = (model.predict(X_test) > 0.5).astype(int)\n",
    "    else:\n",
    "        y_pred = model.predict(X_test)\n",
    "        \n",
    "    results.append({\n",
    "        \"Model\": name,\n",
    "        \"Accuracy\": accuracy_score(y_true, y_pred),\n",
    "        \"F1 Score\": f1_score(y_true, y_pred),\n",
    "        \"ROC AUC\": roc_auc_score(y_true, y_pred)\n",
    "    })"
   ]
  },
  {
   "cell_type": "code",
   "execution_count": 101,
   "id": "d5eeebdb",
   "metadata": {},
   "outputs": [
    {
     "data": {
      "text/html": [
       "<div>\n",
       "<style scoped>\n",
       "    .dataframe tbody tr th:only-of-type {\n",
       "        vertical-align: middle;\n",
       "    }\n",
       "\n",
       "    .dataframe tbody tr th {\n",
       "        vertical-align: top;\n",
       "    }\n",
       "\n",
       "    .dataframe thead th {\n",
       "        text-align: right;\n",
       "    }\n",
       "</style>\n",
       "<table border=\"1\" class=\"dataframe\">\n",
       "  <thead>\n",
       "    <tr style=\"text-align: right;\">\n",
       "      <th></th>\n",
       "      <th>Model</th>\n",
       "      <th>Accuracy</th>\n",
       "      <th>F1 Score</th>\n",
       "      <th>ROC AUC</th>\n",
       "    </tr>\n",
       "  </thead>\n",
       "  <tbody>\n",
       "    <tr>\n",
       "      <th>0</th>\n",
       "      <td>DEEP_ADHD</td>\n",
       "      <td>0.625514</td>\n",
       "      <td>0.734694</td>\n",
       "      <td>0.548349</td>\n",
       "    </tr>\n",
       "    <tr>\n",
       "      <th>1</th>\n",
       "      <td>RF_ADHD</td>\n",
       "      <td>0.683128</td>\n",
       "      <td>0.808933</td>\n",
       "      <td>0.510444</td>\n",
       "    </tr>\n",
       "    <tr>\n",
       "      <th>2</th>\n",
       "      <td>DEEP_SEX</td>\n",
       "      <td>0.670782</td>\n",
       "      <td>0.555556</td>\n",
       "      <td>0.654330</td>\n",
       "    </tr>\n",
       "    <tr>\n",
       "      <th>3</th>\n",
       "      <td>MLP_SEX</td>\n",
       "      <td>0.711934</td>\n",
       "      <td>0.477612</td>\n",
       "      <td>0.633396</td>\n",
       "    </tr>\n",
       "  </tbody>\n",
       "</table>\n",
       "</div>"
      ],
      "text/plain": [
       "       Model  Accuracy  F1 Score   ROC AUC\n",
       "0  DEEP_ADHD  0.625514  0.734694  0.548349\n",
       "1    RF_ADHD  0.683128  0.808933  0.510444\n",
       "2   DEEP_SEX  0.670782  0.555556  0.654330\n",
       "3    MLP_SEX  0.711934  0.477612  0.633396"
      ]
     },
     "execution_count": 101,
     "metadata": {},
     "output_type": "execute_result"
    }
   ],
   "source": [
    "comparison_df = pd.DataFrame(results)\n",
    "\n",
    "comparison_df.to_csv(\"model_comparison_table.csv\", index=False)\n",
    "comparison_df"
   ]
  },
  {
   "cell_type": "markdown",
   "id": "83c6e5cc",
   "metadata": {},
   "source": [
    "<span style=\"font-family: Century Gothic\"> 🧠 ADHD Classification: </span>\n",
    "\n",
    "<span style=\"font-family: Century Gothic; font-size: 15px\"> The Random Forest model demonstrates poor overall balance and significant class bias when predicting ADHD outcomes from `fMRI` data.</span>\n",
    "\n",
    "<span style=\"font-family: Century Gothic; font-size: 15px\">It achieves an `accuracy` of `68%`, but this is largely driven by high performance on `class 1` (likely ADHD), with a `recall` of `98%` and `F1-score` of `0.81`.</span>\n",
    "\n",
    "<span style=\"font-family: Century Gothic; font-size: 15px\">However, the model performs very poorly on class 0 (likely non-ADHD), with a `recall` of just `4%` and an `F1-score` of `0.07`, indicating that almost all non-ADHD cases are misclassified.</span>\n",
    "\n",
    "<span style=\"font-family: Century Gothic; font-size: 15px\">The `ROC AUC` score of `0.58` reflects the model's limited ability to distinguish between classes, only marginally above random guessing.</span>\n",
    "\n",
    "<span style=\"font-family: Century Gothic; font-size: 15px\">The macro averages are low across precision, recall, and F1-score, underscoring the imbalance in prediction quality across classes.</span>\n",
    "\n",
    "<span style=\"font-family: Century Gothic; font-size: 15px\">Conclusion: In summary, while the model is highly sensitive to ADHD cases, its inability to correctly identify non-ADHD subjects raises concerns. This imbalance suggests a need for data balancing, feature refinement, or a different model choice better suited to the complexity of fMRI data. </span>\n",
    "\n",
    "<span style=\"font-family: Century Gothic\"> 🧬 Sex Classification: </span>\n",
    "\n",
    "<span style=\"font-family: Century Gothic; font-size: 15px\"> The `MLP model` shows moderate performance in classifying sex from `fMRI` data, with a balanced overall `accuracy` of `71%`.</span>\n",
    "\n",
    "<span style=\"font-family: Century Gothic; font-size: 15px\">The model performs significantly better on `class 0` (likely Male) with an `F1-score` of `0.80` and `recall` of `88%`, indicating strong ability to detect this class.</span>\n",
    "\n",
    "<span style=\"font-family: Century Gothic; font-size: 15px\">For `class 1` (likely Female), the model struggles, achieving only `39% recall` and an `F1-score` of `0.48`, which points to a noticeable performance gap between classes.</span>\n",
    "\n",
    "<span style=\"font-family: Century Gothic; font-size: 15px\">The macro-averaged `F1-score 0.64` and `ROC AUC score 0.72` reflect a moderate level of discriminatory power, but still with room for improvement.</span>\n",
    "\n",
    "<span style=\"font-family: Century Gothic; font-size: 15px\">Conclusion: Overall, while the MLP model demonstrates reasonable effectiveness, its reduced sensitivity to class 1 suggests class imbalance or feature bias. Additional tuning or strategies like oversampling, ensemble methods, or feature selection may help improve generalizability across both sexes.</span>"
   ]
  },
  {
   "cell_type": "code",
   "execution_count": 102,
   "id": "56145b64",
   "metadata": {},
   "outputs": [
    {
     "data": {
      "image/png": "[encoded data removed]",
      "text/plain": [
       "<Figure size 1000x600 with 1 Axes>"
      ]
     },
     "metadata": {},
     "output_type": "display_data"
    }
   ],
   "source": [
    "# Melt for easier seaborn plotting\n",
    "comparison_melted = comparison_df.melt(id_vars='Model', var_name='Metric', value_name='Score')\n",
    "\n",
    "# Plot\n",
    "plt.figure(figsize=(10, 6))\n",
    "sns.barplot(data=comparison_melted, x='Model', y='Score', hue='Metric')\n",
    "plt.title(\"Model Comparison: Accuracy, F1 Score, ROC AUC\")\n",
    "plt.ylim(0, 1)\n",
    "plt.legend(bbox_to_anchor=(1.05, 1), loc='upper left')\n",
    "plt.tight_layout()\n",
    "plt.show()"
   ]
  }
 ],
 "metadata": {
  "kernelspec": {
   "display_name": "venv",
   "language": "python",
   "name": "python3"
  },
  "language_info": {
   "codemirror_mode": {
    "name": "ipython",
    "version": 3
   },
   "file_extension": ".py",
   "mimetype": "text/x-python",
   "name": "python",
   "nbconvert_exporter": "python",
   "pygments_lexer": "ipython3",
   "version": "3.12.6"
  }
 },
 "nbformat": 4,
 "nbformat_minor": 5
}
