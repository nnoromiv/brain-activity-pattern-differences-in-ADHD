{
 "cells": [
  {
   "cell_type": "markdown",
   "metadata": {},
   "source": [
    "This is a classification problem. You should have mentioned classification-appropriate models and metrics.\n",
    " • You can propose different models for different types of data.\n",
    " • I was also looking for hyperparameter tuning options, including cross-validation approaches.\n",
    " • And a mention of how you’ll assess whether your model is biased.\n",
    " • And interpretability, which is also a requirement of the project"
   ]
  }
 ],
 "metadata": {
  "language_info": {
   "name": "python"
  }
 },
 "nbformat": 4,
 "nbformat_minor": 2
}
